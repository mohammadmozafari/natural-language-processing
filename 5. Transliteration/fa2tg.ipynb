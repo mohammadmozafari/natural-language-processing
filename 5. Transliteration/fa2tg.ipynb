{
 "cells": [
  {
   "cell_type": "markdown",
   "id": "6b62d75e-91f5-4abe-a2f6-9e274a810eec",
   "metadata": {},
   "source": [
    "# Import Basic Things"
   ]
  },
  {
   "cell_type": "code",
   "execution_count": 29,
   "id": "49a1b694-be8f-4e7a-9277-623c045b7452",
   "metadata": {},
   "outputs": [],
   "source": [
    "import json\n",
    "import random\n",
    "import math\n",
    "import nltk\n",
    "import numpy as np\n",
    "import itertools\n",
    "\n",
    "from processor import *\n",
    "\n",
    "import matplotlib.pyplot as plt\n",
    "import matplotlib.ticker as ticker\n",
    "\n",
    "import torch\n",
    "import torch.nn as nn\n",
    "import torch.optim as optim\n",
    "import torch.nn.functional as F\n",
    "from torch.utils.data import Dataset, random_split, DataLoader\n",
    "from torch.utils.data.dataloader import default_collate"
   ]
  },
  {
   "cell_type": "markdown",
   "id": "d0c2a9be-4f6f-4b35-9a2c-c6e1f864b302",
   "metadata": {},
   "source": [
    "# Parameters and constants"
   ]
  },
  {
   "cell_type": "code",
   "execution_count": 30,
   "id": "618204ea-c60c-4521-8e57-83cc80e0559f",
   "metadata": {},
   "outputs": [],
   "source": [
    "ALL_DATA = 'result.json'\n",
    "\n",
    "EXIT_AFTER_TRAIN = True\n",
    "REVERSE_MODE = True\n",
    "SAVE_ANYWAY = False # True False\n",
    "\n",
    "BASE_FILE_NAME = None\n",
    "NEW_MODEL_FILE_NAME = 'fa2tg_more.pt' # '02_tg2fa_more.pt'\n",
    "\n",
    "DEVICE = torch.device(\"cuda:0\" if torch.cuda.is_available() else \"cpu\")\n",
    "\n",
    "START_TOKEN = '<s>'\n",
    "PAD_TOKEN = '<p>'\n",
    "END_TOKEN = '</s>'\n",
    "\n",
    "SAMET_REPEAT_TIMES = 1 # 20 1\n",
    "\n",
    "CLIP = 1 \n",
    "ENC_EMB_DIM = 64 \n",
    "DEC_EMB_DIM = 64\n",
    "ENC_HID_DIM = 512\n",
    "DEC_HID_DIM = 512 \n",
    "ENC_DROPOUT = 0.2 # 0.7 0.2\n",
    "DEC_DROPOUT = 0.2 # 0.7 0.2\n",
    "TRAINING_TEACHER_FORCING_RATIO = 0.1 # 0.8 0.1\n",
    "\n",
    "LR = 1e-5 # 5e-4 1e-5\n",
    "L1_REGULARIZATION = 0\n",
    "L2_REGULARIZATION = 0.00025\n",
    "LR_DECAY_RATE = 0.97\n",
    "LR_DECAY_STEPS = 1\n",
    "\n",
    "BATCH_SIZE = 32\n",
    "EPOCHS = 800"
   ]
  },
  {
   "cell_type": "markdown",
   "id": "4461953e-c672-4bcd-8e35-2729f5d6aae6",
   "metadata": {},
   "source": [
    "# Import dataset"
   ]
  },
  {
   "cell_type": "code",
   "execution_count": 31,
   "id": "419e6156-ade2-4284-949c-6f9f91d82247",
   "metadata": {},
   "outputs": [],
   "source": [
    "# reverse=True -> FA to TG\n",
    "# reverse=False -> TG to FA\n",
    "class TransliterateDataset(Dataset):\n",
    "    def __init__(self, scr_word, trg_words, src_tokens_list, trg_tokens_list, reverse=False):\n",
    "        src_words_ids = map(self.__cretate_mapper(src_tokens_list), scr_word)\n",
    "        trg_words_ids = map(self.__cretate_mapper(trg_tokens_list), trg_words)\n",
    "        \n",
    "        if reverse:\n",
    "            self.__rows = list(zip(trg_words_ids, src_words_ids))\n",
    "            self.__both_tokens_list = trg_tokens_list, src_tokens_list\n",
    "        else:\n",
    "            self.__rows = list(zip(src_words_ids, trg_words_ids))\n",
    "            self.__both_tokens_list = src_tokens_list, trg_tokens_list\n",
    "        \n",
    "    def __len__(self):\n",
    "        return len(self.__rows)\n",
    "    \n",
    "    def __getitem__(self, idx):\n",
    "        return self.__rows[idx]\n",
    "\n",
    "        \n",
    "    def __cretate_mapper(self, tokens_list: list):\n",
    "        _map = {}\n",
    "        \n",
    "        for idx, word in enumerate(tokens_list):\n",
    "            _map[word] = idx\n",
    "            \n",
    "        def map_to_ids(word):\n",
    "            base = [_map[c] for c in [START_TOKEN] + list(word) + [END_TOKEN]]\n",
    "#             pad = [_map[PAD_TOKEN]] * (MAX_LENGTH - len(base))\n",
    "            return base, len(base)\n",
    "        \n",
    "        return map_to_ids\n",
    "    \n",
    "    def get_both_tokens_list(self):\n",
    "        return self.__both_tokens_list\n",
    "        "
   ]
  },
  {
   "cell_type": "code",
   "execution_count": 32,
   "id": "ed7c272e-e520-42a0-8302-3a338d6ac087",
   "metadata": {},
   "outputs": [],
   "source": [
    "# def __create_tokens_list(self, words):\n",
    "#     chars = set()\n",
    "#     for word in words:\n",
    "#         chars |= set(word)\n",
    "#     return [START_TOKEN, END_TOKEN, PAD_TOKEN] + list(chars)"
   ]
  },
  {
   "cell_type": "code",
   "execution_count": 33,
   "id": "d6faf057-5ab1-4b03-82c7-7d6417311e9b",
   "metadata": {},
   "outputs": [],
   "source": [
    "with open('tg_tokens', 'r') as f:\n",
    "    tg_tokens = json.loads(f.read())\n",
    "with open('fa_tokens', 'r') as f:\n",
    "    fa_tokens = json.loads(f.read())"
   ]
  },
  {
   "cell_type": "code",
   "execution_count": 34,
   "id": "54e65c34-9ba5-4a24-8ee3-9e7db7c67f7d",
   "metadata": {},
   "outputs": [],
   "source": [
    "def read_vajeju_data(file_name):\n",
    "    tg_words = []\n",
    "    fa_words = []\n",
    "\n",
    "    with open(file_name, 'r') as f:\n",
    "        data = json.loads(f.read())\n",
    "\n",
    "    for row in data.values():\n",
    "        if row['tg'] != '' and row['fa'] != '':\n",
    "            if '3' in row['fa'] or '/' in row['fa'] or '(' in row['fa'] or '-' in row['fa']:\n",
    "                continue\n",
    "            tg_words.append(tg_preprocess(row['tg']))\n",
    "            fa_words.append(fa_preprocess(row['fa']))\n",
    "    return tg_words, fa_words\n",
    "\n",
    "tg_words, fa_words = read_vajeju_data(ALL_DATA)\n",
    "# tg_words2, fa_words2 = tuple(zip(*get_samet_pairs(50)))\n",
    "\n",
    "all_dataset = TransliterateDataset(tg_words, fa_words, tg_tokens, fa_tokens, reverse=REVERSE_MODE)"
   ]
  },
  {
   "cell_type": "markdown",
   "id": "b7103a8a-f9ec-4808-9f44-bc2034128264",
   "metadata": {},
   "source": [
    "# Split dataset into the train, test, cv"
   ]
  },
  {
   "cell_type": "code",
   "execution_count": 35,
   "id": "a2b20d2f-77f2-44e9-bb7e-1f1f25545ca3",
   "metadata": {},
   "outputs": [],
   "source": [
    "lengths = [int(len(all_dataset)*frac) for frac in (0.9, 0.05)]\n",
    "lengths.append(len(all_dataset) - sum(lengths))\n",
    "_train_dataset, _test_dataset, _cv_dataset = random_split(all_dataset, lengths, generator=torch.Generator().manual_seed(42))\n",
    "if SAMET_REPEAT_TIMES > 0:\n",
    "    tg_words_samet, fa_words_samet = tuple(zip(*get_samet_pairs(SAMET_REPEAT_TIMES)))\n",
    "    samet_dataset = TransliterateDataset(tg_words_samet, fa_words_samet, tg_tokens, fa_tokens, reverse=REVERSE_MODE)\n",
    "    _train_dataset = list(itertools.chain(_train_dataset, samet_dataset))"
   ]
  },
  {
   "cell_type": "markdown",
   "id": "a3789de7-5624-48c5-a8eb-aa5fd212b222",
   "metadata": {},
   "source": [
    "# Batchify datasets"
   ]
  },
  {
   "cell_type": "code",
   "execution_count": 36,
   "id": "7bde5ad5-c21f-495c-a025-eefe99d998ca",
   "metadata": {},
   "outputs": [],
   "source": [
    "from torch.nn.utils.rnn import pad_sequence\n",
    "def custom_collate_fn(rows):\n",
    "    batch_sorted = sorted(rows, key=lambda x: x[0][1],reverse=True)\n",
    "    \n",
    "    max_length_src = batch_sorted[0][0][1]\n",
    "    max_length_trg = max([x[1][1] for x in batch_sorted])\n",
    "    \n",
    "    src, trg = all_dataset.get_both_tokens_list()\n",
    "    src_pad = src.index(PAD_TOKEN)\n",
    "    trg_pad = trg.index(PAD_TOKEN)\n",
    "    \n",
    "    for idx, ((src, l_src), (trg, l_trg)) in enumerate(batch_sorted):\n",
    "        pad_src = [src_pad] * (max_length_src - l_src)\n",
    "        pad_trg = [trg_pad] * (max_length_trg - l_trg)\n",
    "        batch_sorted[idx] = torch.tensor(src + pad_src).to(DEVICE), l_src, torch.tensor(trg + pad_trg).to(DEVICE), l_trg\n",
    "        \n",
    "    return default_collate(batch_sorted)\n",
    "\n",
    "train_dataset = DataLoader(_train_dataset, batch_size=BATCH_SIZE, collate_fn=custom_collate_fn)\n",
    "test_dataset = DataLoader(_test_dataset, batch_size=BATCH_SIZE, collate_fn=custom_collate_fn)\n",
    "cv_dataset = DataLoader(_cv_dataset, batch_size=BATCH_SIZE, collate_fn=custom_collate_fn)"
   ]
  },
  {
   "cell_type": "markdown",
   "id": "b28f7c2d-e8d7-41af-9849-fd83f66f59f8",
   "metadata": {},
   "source": [
    "## Building the Model\n",
    "\n",
    "### Encoder\n",
    "\n",
    "Next up, we define the encoder.\n",
    "\n",
    "The changes here all within the `forward` method. It now accepts the lengths of the source sentences as well as the sentences themselves. \n",
    "\n",
    "After the source sentence (padded automatically within the iterator) has been embedded, we can then use `pack_padded_sequence` on it with the lengths of the sentences. Note that the tensor containing the lengths of the sequences must be a CPU tensor as of the latest version of PyTorch, which we explicitly do so with `to('cpu')`. `packed_embedded` will then be our packed padded sequence. This can be then fed to our RNN as normal which will return `packed_outputs`, a packed tensor containing all of the hidden states from the sequence, and `hidden` which is simply the final hidden state from our sequence. `hidden` is a standard tensor and not packed in any way, the only difference is that as the input was a packed sequence, this tensor is from the final **non-padded element** in the sequence.\n",
    "\n",
    "We then unpack our `packed_outputs` using `pad_packed_sequence` which returns the `outputs` and the lengths of each, which we don't need. \n",
    "\n",
    "The first dimension of `outputs` is the padded sequence lengths however due to using a packed padded sequence the values of tensors when a padding token was the input will be all zeros."
   ]
  },
  {
   "cell_type": "code",
   "execution_count": 37,
   "id": "0e35c0c6-c582-462c-9f1c-c971a49ac474",
   "metadata": {},
   "outputs": [],
   "source": [
    "class Encoder(nn.Module):\n",
    "    def __init__(self, input_dim, emb_dim, enc_hid_dim, dec_hid_dim, dropout):\n",
    "        super().__init__()\n",
    "        \n",
    "        self.embedding = nn.Embedding(input_dim, emb_dim)\n",
    "        \n",
    "        self.rnn = nn.GRU(emb_dim, enc_hid_dim, bidirectional = True)\n",
    "        \n",
    "        self.fc = nn.Linear(enc_hid_dim * 2, dec_hid_dim)\n",
    "        \n",
    "        self.dropout = nn.Dropout(dropout)\n",
    "        \n",
    "    def forward(self, src, src_len):\n",
    "        \n",
    "        #src = [src len, batch size]\n",
    "        #src_len = [batch size]\n",
    "        \n",
    "        embedded = self.dropout(self.embedding(src))\n",
    "        #embedded = [src len, batch size, emb dim]\n",
    "                \n",
    "        #need to explicitly put lengths on cpu!\n",
    "        packed_embedded = nn.utils.rnn.pack_padded_sequence(embedded, src_len.to('cpu'))\n",
    "                \n",
    "        packed_outputs, hidden = self.rnn(packed_embedded)\n",
    "        #packed_outputs is a packed sequence containing all hidden states\n",
    "        #hidden is now from the final non-padded element in the batch\n",
    "            \n",
    "        outputs, _ = nn.utils.rnn.pad_packed_sequence(packed_outputs) \n",
    "            \n",
    "        #outputs is now a non-packed sequence, all hidden states obtained\n",
    "        #  when the input is a pad token are all zeros\n",
    "            \n",
    "        #outputs = [src len, batch size, hid dim * num directions]\n",
    "        #hidden = [n layers * num directions, batch size, hid dim]\n",
    "        \n",
    "        #hidden is stacked [forward_1, backward_1, forward_2, backward_2, ...]\n",
    "        #outputs are always from the last layer\n",
    "        \n",
    "        #hidden [-2, :, : ] is the last of the forwards RNN \n",
    "        #hidden [-1, :, : ] is the last of the backwards RNN\n",
    "        \n",
    "        #initial decoder hidden is final hidden state of the forwards and backwards \n",
    "        #  encoder RNNs fed through a linear layer\n",
    "        hidden = torch.tanh(self.fc(torch.cat((hidden[-2,:,:], hidden[-1,:,:]), dim = 1)))\n",
    "        #outputs = [src len, batch size, enc hid dim * 2]\n",
    "        #hidden = [batch size, dec hid dim]\n",
    "        return outputs, hidden"
   ]
  },
  {
   "cell_type": "markdown",
   "id": "5fd8cae6-3919-429f-b373-a0b760885ba8",
   "metadata": {},
   "source": [
    "### Attention\n",
    "\n",
    "The attention module is where we calculate the attention values over the source sentence. \n",
    "\n",
    "Previously, we allowed this module to \"pay attention\" to padding tokens within the source sentence. However, using *masking*, we can force the attention to only be over non-padding elements.\n",
    "\n",
    "The `forward` method now takes a `mask` input. This is a **[batch size, source sentence length]** tensor that is 1 when the source sentence token is not a padding token, and 0 when it is a padding token. For example, if the source sentence is: [\"hello\", \"how\", \"are\", \"you\", \"?\", `<pad>`, `<pad>`], then the mask would be [1, 1, 1, 1, 1, 0, 0].\n",
    "\n",
    "We apply the mask after the attention has been calculated, but before it has been normalized by the `softmax` function. It is applied using `masked_fill`. This fills the tensor at each element where the first argument (`mask == 0`) is true, with the value given by the second argument (`-1e10`). In other words, it will take the un-normalized attention values, and change the attention values over padded elements to be `-1e10`. As these numbers will be miniscule compared to the other values they will become zero when passed through the `softmax` layer, ensuring no attention is payed to padding tokens in the source sentence."
   ]
  },
  {
   "cell_type": "code",
   "execution_count": 38,
   "id": "46e70983-e39d-4566-8473-b0af9540f17d",
   "metadata": {},
   "outputs": [],
   "source": [
    "class Attention(nn.Module):\n",
    "    def __init__(self, enc_hid_dim, dec_hid_dim):\n",
    "        super().__init__()\n",
    "        \n",
    "        self.attn = nn.Linear((enc_hid_dim * 2) + dec_hid_dim, dec_hid_dim)\n",
    "        self.v = nn.Linear(dec_hid_dim, 1, bias = False)\n",
    "        \n",
    "    def forward(self, hidden, encoder_outputs, mask):\n",
    "        \n",
    "        #hidden = [batch size, dec hid dim]\n",
    "        #encoder_outputs = [src len, batch size, enc hid dim * 2]\n",
    "        \n",
    "        batch_size = encoder_outputs.shape[1]\n",
    "        src_len = encoder_outputs.shape[0]\n",
    "        \n",
    "        #repeat decoder hidden state src_len times\n",
    "        hidden = hidden.unsqueeze(1).repeat(1, src_len, 1)\n",
    "  \n",
    "        encoder_outputs = encoder_outputs.permute(1, 0, 2)\n",
    "        \n",
    "        #hidden = [batch size, src len, dec hid dim]\n",
    "        #encoder_outputs = [batch size, src len, enc hid dim * 2]\n",
    "        \n",
    "        energy = torch.tanh(self.attn(torch.cat((hidden, encoder_outputs), dim = 2))) \n",
    "        \n",
    "        #energy = [batch size, src len, dec hid dim]\n",
    "        attention = self.v(energy).squeeze(2)\n",
    "        \n",
    "        #attention = [batch size, src len]\n",
    "        attention = attention.masked_fill(mask == 0, -1e10)\n",
    "        \n",
    "        return F.softmax(attention, dim = 1)"
   ]
  },
  {
   "cell_type": "markdown",
   "id": "06a4805e-62c9-44ed-b42c-6ff281025485",
   "metadata": {},
   "source": [
    "### Decoder\n",
    "\n",
    "The decoder only needs a few small changes. It needs to accept a mask over the source sentence and pass this to the attention module. As we want to view the values of attention during inference, we also return the attention tensor."
   ]
  },
  {
   "cell_type": "code",
   "execution_count": 39,
   "id": "654de750-87b9-442e-b80c-c0ac75f1f7c2",
   "metadata": {},
   "outputs": [],
   "source": [
    "class Decoder(nn.Module):\n",
    "    def __init__(self, output_dim, emb_dim, enc_hid_dim, dec_hid_dim, dropout, attention):\n",
    "        super().__init__()\n",
    "\n",
    "        self.output_dim = output_dim\n",
    "        self.attention = attention\n",
    "        \n",
    "        self.embedding = nn.Embedding(output_dim, emb_dim)\n",
    "        \n",
    "        self.rnn = nn.GRU((enc_hid_dim * 2) + emb_dim, dec_hid_dim)\n",
    "        \n",
    "        self.fc_out = nn.Linear((enc_hid_dim * 2) + dec_hid_dim + emb_dim, output_dim)\n",
    "        \n",
    "        self.dropout = nn.Dropout(dropout)\n",
    "        \n",
    "    def forward(self, input, hidden, encoder_outputs, mask):\n",
    "             \n",
    "        #input = [batch size]\n",
    "        #hidden = [batch size, dec hid dim]\n",
    "        #encoder_outputs = [src len, batch size, enc hid dim * 2]\n",
    "        #mask = [batch size, src len]\n",
    "        \n",
    "        input = input.unsqueeze(0)\n",
    "        \n",
    "        #input = [1, batch size]\n",
    "        \n",
    "        embedded = self.dropout(self.embedding(input))\n",
    "        \n",
    "        #embedded = [1, batch size, emb dim]\n",
    "        \n",
    "        a = self.attention(hidden, encoder_outputs, mask)\n",
    "                \n",
    "        #a = [batch size, src len]\n",
    "        \n",
    "        a = a.unsqueeze(1)\n",
    "        \n",
    "        #a = [batch size, 1, src len]\n",
    "        \n",
    "        encoder_outputs = encoder_outputs.permute(1, 0, 2)\n",
    "        \n",
    "        #encoder_outputs = [batch size, src len, enc hid dim * 2]\n",
    "        \n",
    "        weighted = torch.bmm(a, encoder_outputs)\n",
    "        \n",
    "        #weighted = [batch size, 1, enc hid dim * 2]\n",
    "        \n",
    "        weighted = weighted.permute(1, 0, 2)\n",
    "        \n",
    "        #weighted = [1, batch size, enc hid dim * 2]\n",
    "        \n",
    "        rnn_input = torch.cat((embedded, weighted), dim = 2)\n",
    "        \n",
    "        #rnn_input = [1, batch size, (enc hid dim * 2) + emb dim]\n",
    "            \n",
    "        output, hidden = self.rnn(rnn_input, hidden.unsqueeze(0))\n",
    "        \n",
    "        #output = [seq len, batch size, dec hid dim * n directions]\n",
    "        #hidden = [n layers * n directions, batch size, dec hid dim]\n",
    "        \n",
    "        #seq len, n layers and n directions will always be 1 in this decoder, therefore:\n",
    "        #output = [1, batch size, dec hid dim]\n",
    "        #hidden = [1, batch size, dec hid dim]\n",
    "        #this also means that output == hidden\n",
    "        assert (output == hidden).all()\n",
    "        \n",
    "        embedded = embedded.squeeze(0)\n",
    "        output = output.squeeze(0)\n",
    "        weighted = weighted.squeeze(0)\n",
    "        \n",
    "        prediction = self.fc_out(torch.cat((output, weighted, embedded), dim = 1))\n",
    "        \n",
    "        #prediction = [batch size, output dim]\n",
    "        \n",
    "        return prediction, hidden.squeeze(0), a.squeeze(1)"
   ]
  },
  {
   "cell_type": "markdown",
   "id": "5c40018d-0c70-40f0-b91e-c0d21c6bf6f1",
   "metadata": {},
   "source": [
    "### Seq2Seq\n",
    "\n",
    "The overarching seq2seq model also needs a few changes for packed padded sequences, masking and inference. \n",
    "\n",
    "We need to tell it what the indexes are for the pad token and also pass the source sentence lengths as input to the `forward` method.\n",
    "\n",
    "We use the pad token index to create the masks, by creating a mask tensor that is 1 wherever the source sentence is not equal to the pad token. This is all done within the `create_mask` function.\n",
    "\n",
    "The sequence lengths as needed to pass to the encoder to use packed padded sequences.\n",
    "\n",
    "The attention at each time-step is stored in the `attentions` "
   ]
  },
  {
   "cell_type": "code",
   "execution_count": 40,
   "id": "efa8397e-c92f-460a-960c-59f5f9d96a13",
   "metadata": {},
   "outputs": [],
   "source": [
    "class Seq2Seq(nn.Module):\n",
    "    def __init__(self, encoder, decoder, src_pad_idx, device):\n",
    "        super().__init__()\n",
    "        \n",
    "        self.encoder = encoder\n",
    "        self.decoder = decoder\n",
    "        self.src_pad_idx = src_pad_idx\n",
    "        self.device = device\n",
    "        \n",
    "    def create_mask(self, src):\n",
    "        mask = (src != self.src_pad_idx).permute(1, 0)\n",
    "        return mask\n",
    "        \n",
    "    def forward(self, src, src_len, trg, teacher_forcing_ratio = 0.5):\n",
    "        #src = [src len, batch size]\n",
    "        #src_len = [batch size]\n",
    "        #trg = [trg len, batch size]\n",
    "        #teacher_forcing_ratio is probability to use teacher forcing\n",
    "        #e.g. if teacher_forcing_ratio is 0.75 we use teacher forcing 75% of the time\n",
    "                    \n",
    "        batch_size = src.shape[1]\n",
    "        trg_len = trg.shape[0]\n",
    "        trg_vocab_size = self.decoder.output_dim\n",
    "        \n",
    "        #tensor to store decoder outputs\n",
    "        outputs = torch.zeros(trg_len, batch_size, trg_vocab_size).to(self.device)\n",
    "        \n",
    "        #encoder_outputs is all hidden states of the input sequence, back and forwards\n",
    "        #hidden is the final forward and backward hidden states, passed through a linear layer\n",
    "        encoder_outputs, hidden = self.encoder(src, src_len)\n",
    "                \n",
    "        #first input to the decoder is the <sos> tokens\n",
    "        input = trg[0,:]\n",
    "        \n",
    "        mask = self.create_mask(src)\n",
    "\n",
    "        #mask = [batch size, src len]\n",
    "\n",
    "        for t in range(1, trg_len):\n",
    "            \n",
    "            #insert input token embedding, previous hidden state, all encoder hidden states \n",
    "            #  and mask\n",
    "            #receive output tensor (predictions) and new hidden state\n",
    "            output, hidden, _ = self.decoder(input, hidden, encoder_outputs, mask)\n",
    "            \n",
    "            #place predictions in a tensor holding predictions for each token\n",
    "            outputs[t] = output\n",
    "            \n",
    "            #decide if we are going to use teacher forcing or not\n",
    "            teacher_force = random.random() < teacher_forcing_ratio\n",
    "            \n",
    "            #get the highest predicted token from our predictions\n",
    "            top1 = output.argmax(1) \n",
    "            \n",
    "            #if teacher forcing, use actual next token as next input\n",
    "            #if not, use predicted token\n",
    "            input = trg[t] if teacher_force else top1\n",
    "            \n",
    "        return outputs"
   ]
  },
  {
   "cell_type": "markdown",
   "id": "b93b8714-f3b7-487f-8062-51e528282d73",
   "metadata": {},
   "source": [
    "## Training the Seq2Seq Model\n",
    "\n",
    "Next up, initializing the model and placing it on the GPU."
   ]
  },
  {
   "cell_type": "code",
   "execution_count": 41,
   "id": "fc58639e-62db-4f1f-bda5-a12c96f16831",
   "metadata": {},
   "outputs": [],
   "source": [
    "SRC, TRG = all_dataset.get_both_tokens_list()\n",
    "\n",
    "INPUT_DIM = len(SRC)\n",
    "OUTPUT_DIM = len(TRG)\n",
    "SRC_PAD_IDX = SRC.index(PAD_TOKEN)\n",
    "\n",
    "attn = Attention(ENC_HID_DIM, DEC_HID_DIM)\n",
    "enc = Encoder(INPUT_DIM, ENC_EMB_DIM, ENC_HID_DIM, DEC_HID_DIM, ENC_DROPOUT)\n",
    "dec = Decoder(OUTPUT_DIM, DEC_EMB_DIM, ENC_HID_DIM, DEC_HID_DIM, DEC_DROPOUT, attn)\n",
    "\n",
    "model = Seq2Seq(enc, dec, SRC_PAD_IDX, DEVICE).to(DEVICE)"
   ]
  },
  {
   "cell_type": "markdown",
   "id": "ba4f49d3-49e0-4e93-8bd6-b5f589ce0b0e",
   "metadata": {},
   "source": [
    "Then, we initialize the model parameters."
   ]
  },
  {
   "cell_type": "code",
   "execution_count": 42,
   "id": "d5b29e45-7ae0-4d1a-9baa-700fec7c4e23",
   "metadata": {},
   "outputs": [
    {
     "data": {
      "text/plain": [
       "Seq2Seq(\n",
       "  (encoder): Encoder(\n",
       "    (embedding): Embedding(38, 64)\n",
       "    (rnn): GRU(64, 512, bidirectional=True)\n",
       "    (fc): Linear(in_features=1024, out_features=512, bias=True)\n",
       "    (dropout): Dropout(p=0.2, inplace=False)\n",
       "  )\n",
       "  (decoder): Decoder(\n",
       "    (attention): Attention(\n",
       "      (attn): Linear(in_features=1536, out_features=512, bias=True)\n",
       "      (v): Linear(in_features=512, out_features=1, bias=False)\n",
       "    )\n",
       "    (embedding): Embedding(40, 64)\n",
       "    (rnn): GRU(1088, 512)\n",
       "    (fc_out): Linear(in_features=1600, out_features=40, bias=True)\n",
       "    (dropout): Dropout(p=0.2, inplace=False)\n",
       "  )\n",
       ")"
      ]
     },
     "execution_count": 42,
     "metadata": {},
     "output_type": "execute_result"
    }
   ],
   "source": [
    "def init_weights(m):\n",
    "    for name, param in m.named_parameters():\n",
    "        if 'weight' in name:\n",
    "            nn.init.normal_(param.data, mean=0, std=0.01)\n",
    "        else:\n",
    "            nn.init.constant_(param.data, 0)\n",
    "            \n",
    "model.apply(init_weights)"
   ]
  },
  {
   "cell_type": "markdown",
   "id": "37050c27-e634-4078-92e5-6f13bf5ba38f",
   "metadata": {},
   "source": [
    "We'll print out the number of trainable parameters in the model, noticing that it has the exact same amount of parameters as the model without these improvements."
   ]
  },
  {
   "cell_type": "code",
   "execution_count": 43,
   "id": "e7b36817-0117-43a6-8452-fc984ecd2a75",
   "metadata": {},
   "outputs": [
    {
     "name": "stdout",
     "output_type": "stream",
     "text": [
      "The model has 5,617,576 trainable parameters\n"
     ]
    }
   ],
   "source": [
    "def count_parameters(model):\n",
    "    return sum(p.numel() for p in model.parameters() if p.requires_grad)\n",
    "\n",
    "print(f'The model has {count_parameters(model):,} trainable parameters')"
   ]
  },
  {
   "cell_type": "markdown",
   "id": "a9f2f005-db40-4ad2-bae4-8d6b0632fc00",
   "metadata": {},
   "source": [
    "Then we define our optimizer and criterion. \n",
    "\n",
    "The `ignore_index` for the criterion needs to be the index of the pad token for the target language, not the source language."
   ]
  },
  {
   "cell_type": "code",
   "execution_count": 44,
   "id": "07a1f742-4bc2-4e66-8abb-e3c31445fd9b",
   "metadata": {},
   "outputs": [],
   "source": [
    "optimizer = optim.Adam(model.parameters(), lr=LR, weight_decay=L2_REGULARIZATION)\n",
    "scheduler = optim.lr_scheduler.StepLR(optimizer, step_size=LR_DECAY_STEPS, gamma=LR_DECAY_RATE)"
   ]
  },
  {
   "cell_type": "code",
   "execution_count": 45,
   "id": "dda24ed4-2cc8-4801-a8c7-afeca847cda5",
   "metadata": {},
   "outputs": [],
   "source": [
    "TRG_PAD_IDX = TRG.index(PAD_TOKEN)\n",
    "\n",
    "criterion = nn.CrossEntropyLoss(ignore_index = TRG_PAD_IDX)"
   ]
  },
  {
   "cell_type": "markdown",
   "id": "78fdee3b-10f0-4a38-b0e8-d52b3e682c52",
   "metadata": {},
   "source": [
    "Next, we'll define our training and evaluation loops.\n",
    "\n",
    "As we are using `include_lengths = True` for our source field, `batch.src` is now a tuple with the first element being the numericalized tensor representing the sentence and the second element being the lengths of each sentence within the batch.\n",
    "\n",
    "Our model also returns the attention vectors over the batch of source source sentences for each decoding time-step. We won't use these during the training/evaluation, but we will later for inference."
   ]
  },
  {
   "cell_type": "code",
   "execution_count": 46,
   "id": "f06944f4-5d21-493d-8897-79eecf6fe4aa",
   "metadata": {},
   "outputs": [],
   "source": [
    "def train(model, iterator, optimizer, criterion, clip):\n",
    "    \n",
    "    model.train()\n",
    "    \n",
    "    epoch_loss = 0\n",
    "    \n",
    "    for i, batch in enumerate(iterator):\n",
    "        \n",
    "        src, src_len, trg, _ = batch\n",
    "        \n",
    "        src = torch.transpose(src, 0, 1)\n",
    "        trg = torch.transpose(trg, 0, 1)\n",
    "\n",
    "        optimizer.zero_grad()\n",
    "        \n",
    "        output = model(src, src_len, trg, TRAINING_TEACHER_FORCING_RATIO)\n",
    "        \n",
    "        #trg = [trg len, batch size]\n",
    "        #output = [trg len, batch size, output dim]\n",
    "        \n",
    "        output_dim = output.shape[-1]\n",
    "        \n",
    "        output = output[1:].view(-1, output_dim)\n",
    "        \n",
    "        trg = trg[1:].reshape(-1)\n",
    "        \n",
    "        #trg = [(trg len - 1) * batch size]\n",
    "        #output = [(trg len - 1) * batch size, output dim]\n",
    "        \n",
    "        loss = criterion(output, trg)\n",
    "        \n",
    "        if L1_REGULARIZATION != 0:\n",
    "            L1_reg = torch.tensor(0., requires_grad=True)\n",
    "\n",
    "            for name, param in model.named_parameters():\n",
    "                if 'weight' in name:\n",
    "                    L1_reg = L1_reg + torch.norm(param, 1)\n",
    "\n",
    "            loss = loss + L1_REGULARIZATION * L1_reg\n",
    "        \n",
    "        loss.backward()\n",
    "        \n",
    "        torch.nn.utils.clip_grad_norm_(model.parameters(), clip)\n",
    "        \n",
    "        optimizer.step()\n",
    "        \n",
    "        \n",
    "        epoch_loss += loss.item()\n",
    "        \n",
    "    scheduler.step()\n",
    "    \n",
    "    return epoch_loss / len(iterator)"
   ]
  },
  {
   "cell_type": "code",
   "execution_count": 47,
   "id": "47f1d8f6-a8f5-4dea-bc1b-f7debf8d3d32",
   "metadata": {},
   "outputs": [],
   "source": [
    "def evaluate(model, iterator, criterion):\n",
    "    \n",
    "    model.eval()\n",
    "    \n",
    "    epoch_loss = 0\n",
    "    \n",
    "    with torch.no_grad():\n",
    "    \n",
    "        for i, batch in enumerate(iterator):\n",
    "\n",
    "            src, src_len, trg, _ = batch\n",
    "\n",
    "            src = torch.transpose(src, 0, 1)\n",
    "            trg = torch.transpose(trg, 0, 1)\n",
    "\n",
    "\n",
    "            output = model(src, src_len, trg, 0) #turn off teacher forcing\n",
    "            \n",
    "            #trg = [trg len, batch size]\n",
    "            #output = [trg len, batch size, output dim]\n",
    "\n",
    "            output_dim = output.shape[-1]\n",
    "            \n",
    "            output = output[1:].view(-1, output_dim)\n",
    "            trg = trg[1:].reshape(-1)\n",
    "\n",
    "            #trg = [(trg len - 1) * batch size]\n",
    "            #output = [(trg len - 1) * batch size, output dim]\n",
    "\n",
    "            loss = criterion(output, trg)\n",
    "\n",
    "            epoch_loss += loss.item()\n",
    "        \n",
    "    return epoch_loss / len(iterator)"
   ]
  },
  {
   "cell_type": "markdown",
   "id": "3972e2fd-8e3c-4f5d-8ee8-52db398e9c64",
   "metadata": {},
   "source": [
    "Then, we'll define a useful function for timing how long epochs take."
   ]
  },
  {
   "cell_type": "code",
   "execution_count": 48,
   "id": "c74af579-3f41-49ab-8ea2-f910294f5a66",
   "metadata": {},
   "outputs": [],
   "source": [
    "def epoch_time(start_time, end_time):\n",
    "    elapsed_time = end_time - start_time\n",
    "    elapsed_mins = int(elapsed_time / 60)\n",
    "    elapsed_secs = int(elapsed_time - (elapsed_mins * 60))\n",
    "    return elapsed_mins, elapsed_secs"
   ]
  },
  {
   "cell_type": "code",
   "execution_count": 49,
   "id": "cbbc6121-de22-45e1-a2e5-3aea22c11fb6",
   "metadata": {},
   "outputs": [],
   "source": [
    "if BASE_FILE_NAME is not None:\n",
    "    model.load_state_dict(torch.load(BASE_FILE_NAME))"
   ]
  },
  {
   "cell_type": "markdown",
   "id": "122a7464-af8f-47f8-b337-bfe59647454e",
   "metadata": {},
   "source": [
    "The penultimate step is to train our model. Notice how it takes almost half the time as our model without the improvements added in this notebook."
   ]
  },
  {
   "cell_type": "code",
   "execution_count": 50,
   "id": "826701fa-4907-4349-bb01-ef8c9c46278c",
   "metadata": {},
   "outputs": [],
   "source": [
    "# import time\n",
    "\n",
    "# best_valid_loss = float('inf')\n",
    "\n",
    "# for epoch in range(EPOCHS):\n",
    "    \n",
    "#     start_time = time.time()\n",
    "    \n",
    "#     train_loss = train(model, train_dataset, optimizer, criterion, CLIP)\n",
    "#     valid_loss = evaluate(model, cv_dataset, criterion)\n",
    "    \n",
    "#     end_time = time.time()\n",
    "    \n",
    "#     epoch_mins, epoch_secs = epoch_time(start_time, end_time)\n",
    "    \n",
    "#     if valid_loss < best_valid_loss:\n",
    "#         best_valid_loss = valid_loss\n",
    "#         torch.save(model.state_dict(), NEW_MODEL_FILE_NAME)\n",
    "    \n",
    "#     print(f'Epoch: {epoch+1:02} | Time: {epoch_mins}m {epoch_secs}s')\n",
    "#     print(f'LR is: {optimizer.param_groups[0][\"lr\"]}')\n",
    "#     print(f'\\tTrain Loss: {train_loss:.3f} | Train PPL: {math.exp(train_loss):7.3f}')\n",
    "#     print(f'\\t Val. Loss: {valid_loss:.3f} |  Val. PPL: {math.exp(valid_loss):7.3f}')\n",
    "    \n",
    "# if EXIT_AFTER_TRAIN:\n",
    "#     exit()"
   ]
  },
  {
   "cell_type": "markdown",
   "id": "f55e1b1b-9f32-4390-8ee5-5fdd7ac5c49c",
   "metadata": {},
   "source": [
    "Finally, we load the parameters from our best validation loss and get our results on the test set.\n",
    "\n",
    "We get the improved test perplexity whilst almost being twice as fast!"
   ]
  },
  {
   "cell_type": "code",
   "execution_count": 51,
   "id": "0709d64e-12d9-417d-b658-d48274125ba5",
   "metadata": {},
   "outputs": [
    {
     "name": "stdout",
     "output_type": "stream",
     "text": [
      "| Test Loss: 0.505 | Test PPL:   1.657 |\n"
     ]
    }
   ],
   "source": [
    "model.load_state_dict(torch.load(NEW_MODEL_FILE_NAME, map_location=DEVICE))\n",
    "\n",
    "test_loss = evaluate(model, test_dataset, criterion)\n",
    "\n",
    "print(f'| Test Loss: {test_loss:.3f} | Test PPL: {math.exp(test_loss):7.3f} |')"
   ]
  },
  {
   "cell_type": "markdown",
   "id": "a924b80b-63db-4b71-bb77-f0c54abad9ce",
   "metadata": {},
   "source": [
    "## Inference\n",
    "\n",
    "Now we can use our trained model to generate translations.\n",
    "\n",
    "**Note:** these translations will be poor compared to examples shown in paper as they use hidden dimension sizes of 1000 and train for 4 days! They have been cherry picked in order to show off what attention should look like on a sufficiently sized model.\n",
    "\n",
    "Our `translate_sentence` will do the following:\n",
    "- ensure our model is in evaluation mode, which it should always be for inference\n",
    "- tokenize the source sentence if it has not been tokenized (is a string)\n",
    "- numericalize the source sentence\n",
    "- convert it to a tensor and add a batch dimension\n",
    "- get the length of the source sentence and convert to a tensor\n",
    "- feed the source sentence into the encoder\n",
    "- create the mask for the source sentence\n",
    "- create a list to hold the output sentence, initialized with an `<sos>` token\n",
    "- create a tensor to hold the attention values\n",
    "- while we have not hit a maximum length\n",
    "  - get the input tensor, which should be either `<sos>` or the last predicted token\n",
    "  - feed the input, all encoder outputs, hidden state and mask into the decoder\n",
    "  - store attention values\n",
    "  - get the predicted next token\n",
    "  - add prediction to current output sentence prediction\n",
    "  - break if the prediction was an `<eos>` token\n",
    "- convert the output sentence from indexes to tokens\n",
    "- return the output sentence (with the `<sos>` token removed) and the attention values over the sequence"
   ]
  },
  {
   "cell_type": "code",
   "execution_count": 52,
   "id": "30a7d36a-0b6f-4669-b8da-731d94cffcfd",
   "metadata": {},
   "outputs": [],
   "source": [
    "def translate_sentence(sentence, src_field, trg_field, model, device, max_len = 50):\n",
    "\n",
    "    model.eval()\n",
    "        \n",
    "    tokens = sentence\n",
    "        \n",
    "    src_indexes = [src_field.index(token) for token in tokens]\n",
    "    \n",
    "    src_tensor = torch.LongTensor(src_indexes).unsqueeze(1).to(device)\n",
    "\n",
    "    src_len = torch.LongTensor([len(src_indexes)])\n",
    "    \n",
    "    with torch.no_grad():\n",
    "        encoder_outputs, hidden = model.encoder(src_tensor, src_len)\n",
    "\n",
    "    mask = model.create_mask(src_tensor)\n",
    "        \n",
    "    trg_indexes = [trg_field.index(START_TOKEN)]\n",
    "\n",
    "    attentions = torch.zeros(max_len, 1, len(src_indexes)).to(device)\n",
    "    \n",
    "    for i in range(max_len):\n",
    "\n",
    "        trg_tensor = torch.LongTensor([trg_indexes[-1]]).to(device)\n",
    "                \n",
    "        with torch.no_grad():\n",
    "            output, hidden, attention = model.decoder(trg_tensor, hidden, encoder_outputs, mask)\n",
    "\n",
    "        attentions[i] = attention\n",
    "            \n",
    "        pred_token = output.argmax(1).item()\n",
    "        \n",
    "        trg_indexes.append(pred_token)\n",
    "\n",
    "        if pred_token == trg_field.index(END_TOKEN):\n",
    "            break\n",
    "    \n",
    "    trg_tokens = [trg_field[i] for i in trg_indexes]\n",
    "    \n",
    "    return trg_tokens[1:], attentions[:len(trg_tokens)-1]"
   ]
  },
  {
   "cell_type": "markdown",
   "id": "b5a0cb4e-784c-4aea-a756-e085b63b5fef",
   "metadata": {},
   "source": [
    "Next, we'll make a function that displays the model's attention over the source sentence for each target token generated."
   ]
  },
  {
   "cell_type": "code",
   "execution_count": 53,
   "id": "9e4d501f-5016-429a-af7f-d6cf11e00eb7",
   "metadata": {},
   "outputs": [],
   "source": [
    "def display_attention(sentence, translation, attention):\n",
    "    \n",
    "    fig = plt.figure(figsize=(10,10))\n",
    "    ax = fig.add_subplot(111)\n",
    "    \n",
    "    attention = attention.squeeze(1).cpu().detach().numpy()\n",
    "    \n",
    "    cax = ax.matshow(attention, cmap='bone')\n",
    "   \n",
    "    ax.tick_params(labelsize=15)\n",
    "    \n",
    "    x_ticks = [''] + sentence\n",
    "    y_ticks = [''] + translation\n",
    "     \n",
    "    ax.set_xticklabels(x_ticks, rotation=45)\n",
    "    ax.set_yticklabels(y_ticks)\n",
    "\n",
    "    ax.xaxis.set_major_locator(ticker.MultipleLocator(1))\n",
    "    ax.yaxis.set_major_locator(ticker.MultipleLocator(1))\n",
    "\n",
    "    plt.show()\n",
    "    plt.close()"
   ]
  },
  {
   "cell_type": "markdown",
   "id": "96ddb814-643d-45dd-976d-40f2a659413e",
   "metadata": {},
   "source": [
    "Now, we'll grab some translations from our dataset and see how well our model did. Note, we're going to cherry pick examples here so it gives us something interesting to look at, but feel free to change the `example_idx` value to look at different examples.\n",
    "\n",
    "First, we'll get a source and target from our dataset."
   ]
  },
  {
   "cell_type": "code",
   "execution_count": 54,
   "id": "abf7d397-4b0c-4c06-a036-14d4187a1ce6",
   "metadata": {},
   "outputs": [],
   "source": [
    "def predict_and_draw(src, trg):\n",
    "    translation, attention = translate_sentence(src, SRC, TRG, model, DEVICE)\n",
    "    print(f'src = {\"\".join(src)}')\n",
    "    print(f'trg = {\"\".join(trg[1:])}')\n",
    "    print(f'prd = {\"\".join(translation)}')\n",
    "    print(f'trg_array = {trg[1:]}')\n",
    "    print(f'prd_array = {translation}')\n",
    "    display_attention(src, translation, attention)\n",
    "    \n",
    "def predict_and_draw_by_dataset(inp):\n",
    "    (src, _), (trg, _) = inp\n",
    "    src = [SRC[idx] for idx in src]\n",
    "    trg = [TRG[idx] for idx in trg]\n",
    "    predict_and_draw(src, trg)"
   ]
  },
  {
   "cell_type": "code",
   "execution_count": 57,
   "id": "55cac73b-5586-4e06-9aca-8e05a420f72e",
   "metadata": {},
   "outputs": [
    {
     "name": "stdout",
     "output_type": "stream",
     "text": [
      "src = <s>قاضی‌القضاتی</s>\n",
      "trg = қозиюлқузотӣ</s>\n",
      "prd = қозиллқузотӣ</s>\n",
      "trg_array = ['қ', 'о', 'з', 'и', 'ю', 'л', 'қ', 'у', 'з', 'о', 'т', 'ӣ', '</s>']\n",
      "prd_array = ['қ', 'о', 'з', 'и', 'л', 'л', 'қ', 'у', 'з', 'о', 'т', 'ӣ', '</s>']\n"
     ]
    },
    {
     "name": "stderr",
     "output_type": "stream",
     "text": [
      "E:\\Python Venv\\mfi\\lib\\site-packages\\ipykernel_launcher.py:15: UserWarning: FixedFormatter should only be used together with FixedLocator\n",
      "  from ipykernel import kernelapp as app\n",
      "E:\\Python Venv\\mfi\\lib\\site-packages\\ipykernel_launcher.py:16: UserWarning: FixedFormatter should only be used together with FixedLocator\n",
      "  app.launch_new_instance()\n"
     ]
    },
    {
     "data": {
      "image/png": "[encoded data removed]",
      "text/plain": [
       "<Figure size 720x720 with 1 Axes>"
      ]
     },
     "metadata": {
      "needs_background": "light"
     },
     "output_type": "display_data"
    }
   ],
   "source": [
    "dataset = _test_dataset\n",
    "example_idx = 240\n",
    "predict_and_draw_by_dataset(dataset[example_idx])"
   ]
  },
  {
   "cell_type": "markdown",
   "id": "ceadcf24",
   "metadata": {},
   "source": [
    "## Evaluation"
   ]
  },
  {
   "cell_type": "code",
   "execution_count": 58,
   "id": "407eff07-8825-400f-9650-515ef4313795",
   "metadata": {},
   "outputs": [],
   "source": [
    "def compute_edit_distances(dataset):\n",
    "    edit_distances = np.zeros(len(dataset))\n",
    "    for i, inp in enumerate(dataset):\n",
    "        (src, _), (trg, _) = inp\n",
    "        src = [SRC[idx] for idx in src]\n",
    "        trg = [TRG[idx] for idx in trg]\n",
    "        translation, attention = translate_sentence(src, SRC, TRG, model, DEVICE)\n",
    "        edit_distance = nltk.edit_distance(\"\".join(translation), \"\".join(trg[1:]))\n",
    "        edit_distances[i] = edit_distance\n",
    "    return edit_distances\n",
    "\n",
    "def report_results(dataset, edit_distances):\n",
    "    total_data = len(dataset)\n",
    "    thresholds = [0, 1, 2, 3, 4, 5]\n",
    "\n",
    "    for t in thresholds:\n",
    "        accuracy = (edit_distances <= t).sum() / total_data\n",
    "        print('Accuracy (Edit distance <= {}): {}'.format(t, accuracy))\n",
    "\n",
    "    print()\n",
    "    print('Average edit distance: {}'.format(edit_distances.mean()))"
   ]
  },
  {
   "cell_type": "code",
   "execution_count": 59,
   "id": "ac1ef954",
   "metadata": {},
   "outputs": [
    {
     "name": "stdout",
     "output_type": "stream",
     "text": [
      "----------------------------------\n",
      "Test Dataset Results\n",
      "Accuracy (Edit distance <= 0): 0.647231543624161\n",
      "Accuracy (Edit distance <= 1): 0.8557046979865772\n",
      "Accuracy (Edit distance <= 2): 0.9467281879194631\n",
      "Accuracy (Edit distance <= 3): 0.977768456375839\n",
      "Accuracy (Edit distance <= 4): 0.9899328859060402\n",
      "Accuracy (Edit distance <= 5): 0.9937080536912751\n",
      "\n",
      "Average edit distance: 0.6052852348993288\n"
     ]
    }
   ],
   "source": [
    "test_edit_distances = compute_edit_distances(_test_dataset)\n",
    "\n",
    "print('----------------------------------')\n",
    "print('Test Dataset Results')\n",
    "report_results(_test_dataset, test_edit_distances)"
   ]
  },
  {
   "cell_type": "code",
   "execution_count": null,
   "id": "0b43a0ba",
   "metadata": {},
   "outputs": [],
   "source": []
  }
 ],
 "metadata": {
  "kernelspec": {
   "display_name": "Python 3",
   "language": "python",
   "name": "python3"
  },
  "language_info": {
   "codemirror_mode": {
    "name": "ipython",
    "version": 3
   },
   "file_extension": ".py",
   "mimetype": "text/x-python",
   "name": "python",
   "nbconvert_exporter": "python",
   "pygments_lexer": "ipython3",
   "version": "3.7.9"
  }
 },
 "nbformat": 4,
 "nbformat_minor": 5
}
