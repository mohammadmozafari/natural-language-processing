{
 "cells": [
  {
   "cell_type": "code",
   "execution_count": 60,
   "metadata": {},
   "outputs": [],
   "source": [
    "import glob\n",
    "import numpy as np\n",
    "import pandas as pd"
   ]
  },
  {
   "cell_type": "code",
   "execution_count": 64,
   "metadata": {},
   "outputs": [
    {
     "data": {
      "text/html": [
       "<div>\n",
       "<style scoped>\n",
       "    .dataframe tbody tr th:only-of-type {\n",
       "        vertical-align: middle;\n",
       "    }\n",
       "\n",
       "    .dataframe tbody tr th {\n",
       "        vertical-align: top;\n",
       "    }\n",
       "\n",
       "    .dataframe thead th {\n",
       "        text-align: right;\n",
       "    }\n",
       "</style>\n",
       "<table border=\"1\" class=\"dataframe\">\n",
       "  <thead>\n",
       "    <tr style=\"text-align: right;\">\n",
       "      <th></th>\n",
       "      <th>beyt</th>\n",
       "      <th>author</th>\n",
       "    </tr>\n",
       "  </thead>\n",
       "  <tbody>\n",
       "    <tr>\n",
       "      <th>0</th>\n",
       "      <td>باز آ باز آ هر آنچه هستی باز آ گر کافر و گبر و...</td>\n",
       "      <td>abusaeed</td>\n",
       "    </tr>\n",
       "    <tr>\n",
       "      <th>1</th>\n",
       "      <td>این درگه ما درگه نومیدی نیست صد بار اگر توبه ش...</td>\n",
       "      <td>abusaeed</td>\n",
       "    </tr>\n",
       "    <tr>\n",
       "      <th>2</th>\n",
       "      <td>یا رب به محمد و علی و زهرا یا رب به حسین و حسن...</td>\n",
       "      <td>abusaeed</td>\n",
       "    </tr>\n",
       "    <tr>\n",
       "      <th>3</th>\n",
       "      <td>کز لطف برآر حاجتم در دو سرا بی منت خلق یا علی ...</td>\n",
       "      <td>abusaeed</td>\n",
       "    </tr>\n",
       "    <tr>\n",
       "      <th>4</th>\n",
       "      <td>وصل تو کجا و من مهجور کجا دردانه کجا حوصله مور...</td>\n",
       "      <td>abusaeed</td>\n",
       "    </tr>\n",
       "    <tr>\n",
       "      <th>...</th>\n",
       "      <td>...</td>\n",
       "      <td>...</td>\n",
       "    </tr>\n",
       "    <tr>\n",
       "      <th>590877</th>\n",
       "      <td>پهلو که کند ازو چو زلف تو بهی کورا نه چو خال ت...</td>\n",
       "      <td>zahir</td>\n",
       "    </tr>\n",
       "    <tr>\n",
       "      <th>590878</th>\n",
       "      <td>ای خواجه سخن زیر و زبر می گویی امروز بسی ز دی ...</td>\n",
       "      <td>zahir</td>\n",
       "    </tr>\n",
       "    <tr>\n",
       "      <th>590879</th>\n",
       "      <td>گفتی که به علم مرده را زنده کند عیسی نکند آنچ ...</td>\n",
       "      <td>zahir</td>\n",
       "    </tr>\n",
       "    <tr>\n",
       "      <th>590880</th>\n",
       "      <td>ای روی تو از لطافت آیینه روح خواهم که قدح های ...</td>\n",
       "      <td>zahir</td>\n",
       "    </tr>\n",
       "    <tr>\n",
       "      <th>590881</th>\n",
       "      <td>در دیده کشم ولی ز خار مژه ام</td>\n",
       "      <td>zahir</td>\n",
       "    </tr>\n",
       "  </tbody>\n",
       "</table>\n",
       "<p>590882 rows × 2 columns</p>\n",
       "</div>"
      ],
      "text/plain": [
       "                                                     beyt    author\n",
       "0       باز آ باز آ هر آنچه هستی باز آ گر کافر و گبر و...  abusaeed\n",
       "1       این درگه ما درگه نومیدی نیست صد بار اگر توبه ش...  abusaeed\n",
       "2       یا رب به محمد و علی و زهرا یا رب به حسین و حسن...  abusaeed\n",
       "3       کز لطف برآر حاجتم در دو سرا بی منت خلق یا علی ...  abusaeed\n",
       "4       وصل تو کجا و من مهجور کجا دردانه کجا حوصله مور...  abusaeed\n",
       "...                                                   ...       ...\n",
       "590877  پهلو که کند ازو چو زلف تو بهی کورا نه چو خال ت...     zahir\n",
       "590878  ای خواجه سخن زیر و زبر می گویی امروز بسی ز دی ...     zahir\n",
       "590879  گفتی که به علم مرده را زنده کند عیسی نکند آنچ ...     zahir\n",
       "590880  ای روی تو از لطافت آیینه روح خواهم که قدح های ...     zahir\n",
       "590881                       در دیده کشم ولی ز خار مژه ام     zahir\n",
       "\n",
       "[590882 rows x 2 columns]"
      ]
     },
     "execution_count": 64,
     "metadata": {},
     "output_type": "execute_result"
    }
   ],
   "source": [
    "path = r'./Persian_poems_corpus/normalized/'                                                   # use your path\n",
    "all_files = glob.glob(path + \"/*.txt\")\n",
    "\n",
    "li = []\n",
    "\n",
    "for filename in all_files:\n",
    "    poet = filename.replace('\\\\', '/').split('/')[-1][:-9]\n",
    "    if poet == 'khaghani':\n",
    "        continue\n",
    "    df = pd.read_csv(filename, names=['mesra'], header=None)\n",
    "    df['beyt index'] = df.index // 2\n",
    "    df = df.groupby(['beyt index']).agg({'mesra': ' '.join})\n",
    "    df = df.rename(columns={'mesra':'beyt'})\n",
    "    df['author'] = poet\n",
    "    li.append(df)\n",
    "\n",
    "df = pd.concat(li, axis=0, ignore_index=True)\n",
    "df"
   ]
  },
  {
   "cell_type": "code",
   "execution_count": 213,
   "metadata": {},
   "outputs": [
    {
     "name": "stdout",
     "output_type": "stream",
     "text": [
      "تا چو زین شیوه سخن بینی بسی بر سر انکار ننشینی بسی\n",
      "عشق آمد و رسم عقل برداشت شوق آمد و بیخ صبر برکند\n",
      "دارای کین گذارکه در دشت کارزار تیغش چو ذوالفقارکه با دست حیدر است\n",
      "گویمش آلان قوا ولیک هر اسم کاو به عبث حمل می نیافت به  گیهان\n",
      "شیراز و آب رکنی و این باد خوش نسیم عیبش مکن که خال رخ هفت کشور است\n",
      "ای بسته تو خواب من به چشم جادو آن آب حیات و نقل بیخوابان کو\n",
      "اینچنین مشکین که زلف میر ماست چونک بی عقلیم این زنجیر ماست\n",
      "ای تمامی ترا تمام ببخش بده ای کردگار بخشنده\n",
      "دل نیست که از عشق تو خون مینشود تن نیست که از تو سرنگون مینشود\n",
      "گر شاهد است سبزه بر اطراف گلستان بر عارضین شاهد گلروی خوشتر است\n",
      "بر در میدان گریان و خروشان هموار خواجگان بینم برداشته از پیش دوات\n",
      "عنبر زلف تو عطارم کرد واطلس روی تو بزاز کند\n",
      "ترا بصفه ایوان  چه افتخار بود که ساختست خرد جای در دل و جانت\n",
      "در عشق تو صد همدم تیمار برم باید تنها چکنم چون کس تیمار برم نبود\n",
      "نوای  قمری و بلبل مکرر شد درین  گلشن تو اکنون ناله  کن بیدل که آهنگت اثر دارد\n",
      "بهمت بگذرد زان جمله برتر بود خلق جهان را جمله برسر\n",
      "سخن چند معجزست مرا در سخنهاش سخت لایق حال\n",
      "حیات از صحبت جان در تبرم قوی از یکدگر در استزادت\n",
      "پس کرمهای الهی بین که ما آمدیم آخر زمان در انتها\n",
      "سید چو همه طالب و مطلوب نمایند عاشق نتوان گفت که معشوق نما نیست\n"
     ]
    }
   ],
   "source": [
    "for _ in range(20):\n",
    "    print(df.sample().iloc[0].beyt)"
   ]
  },
  {
   "cell_type": "code",
   "execution_count": 218,
   "metadata": {},
   "outputs": [
    {
     "name": "stdout",
     "output_type": "stream",
     "text": [
      "Processing query 50\n"
     ]
    }
   ],
   "source": [
    "query_keywords_path = './eval_data/query_keywords.txt'\n",
    "result_path = './eval_data/retrieved'\n",
    "\n",
    "with open(query_keywords_path, encoding='utf-8') as f:\n",
    "    lines = f.readlines()\n",
    "    queries = [line[:-1].split(',') for line in lines]\n",
    "\n",
    "iterat = list(zip(range(len(queries)), queries))\n",
    "iterat = iterat[49:]\n",
    "for i, keywords in iterat:\n",
    "    print('Processing query {}'.format(i + 1))\n",
    "    regex = r''\n",
    "    for k in keywords:\n",
    "        regex += (r'(?=.*\\s{}\\s)'.format(k))\n",
    "    results = df[df['beyt'].str.contains(regex)]\n",
    "    lines = results['beyt'].tolist()\n",
    "    lines = [(line + '\\n') for line in lines]\n",
    "    with open('{}/{}.txt'.format(result_path, i+1), 'w', encoding='utf-8') as f:\n",
    "        f.writelines(lines)"
   ]
  },
  {
   "cell_type": "code",
   "execution_count": null,
   "metadata": {},
   "outputs": [],
   "source": []
  }
 ],
 "metadata": {
  "interpreter": {
   "hash": "442e29bcd04bf821d0544d72aba6c1125df328429626c0407e477187cbe68c47"
  },
  "kernelspec": {
   "display_name": "Python 3.7.9 ('mfi')",
   "language": "python",
   "name": "python3"
  },
  "language_info": {
   "codemirror_mode": {
    "name": "ipython",
    "version": 3
   },
   "file_extension": ".py",
   "mimetype": "text/x-python",
   "name": "python",
   "nbconvert_exporter": "python",
   "pygments_lexer": "ipython3",
   "version": "3.7.9"
  },
  "orig_nbformat": 4
 },
 "nbformat": 4,
 "nbformat_minor": 2
}
