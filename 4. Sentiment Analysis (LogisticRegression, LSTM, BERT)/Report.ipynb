{
 "cells": [
  {
   "cell_type": "code",
   "execution_count": 1,
   "id": "0c679b61-f179-4b3e-adf9-03a53dd87f4b",
   "metadata": {},
   "outputs": [
    {
     "data": {
      "text/html": [
       "<link href=\"https://v1.fontapi.ir/css/Vazir\" rel=\"stylesheet\">\n",
       "<link rel=\"stylesheet\" href=\"style.css\">\n"
      ],
      "text/plain": [
       "<IPython.core.display.HTML object>"
      ]
     },
     "metadata": {},
     "output_type": "display_data"
    }
   ],
   "source": [
    "%%html\n",
    "<link href=\"https://v1.fontapi.ir/css/Vazir\" rel=\"stylesheet\">\n",
    "<link rel=\"stylesheet\" href=\"style.css\">"
   ]
  },
  {
   "cell_type": "markdown",
   "id": "d8bce71f-854f-4d63-9f6d-32bba0482b38",
   "metadata": {},
   "source": [
    "# <div class=\"farsi center\">بسم الله الرحمن الرحیم</div>"
   ]
  },
  {
   "cell_type": "markdown",
   "id": "a990b98d-1492-43c9-be93-160f2cbaf97c",
   "metadata": {},
   "source": [
    "## <div class=\"farsi right\">محمد علی صدرایی- 400210993</div>\n",
    "## <div class=\"farsi right\">محمد مظفری- 400201167</div>\n",
    "## <div class=\"farsi right\">علیرضا زارع نژاد- 400201101</div>"
   ]
  },
  {
   "cell_type": "markdown",
   "id": "1d144e23-5e7b-4cc0-b2fd-1ada9d97a607",
   "metadata": {},
   "source": [
    "# All results in the same place"
   ]
  },
  {
   "cell_type": "code",
   "execution_count": 3,
   "id": "357b32af-a61c-404d-9bac-0941e77d28d4",
   "metadata": {},
   "outputs": [
    {
     "data": {
      "text/html": [
       "<div>\n",
       "<style scoped>\n",
       "    .dataframe tbody tr th:only-of-type {\n",
       "        vertical-align: middle;\n",
       "    }\n",
       "\n",
       "    .dataframe tbody tr th {\n",
       "        vertical-align: top;\n",
       "    }\n",
       "\n",
       "    .dataframe thead th {\n",
       "        text-align: right;\n",
       "    }\n",
       "</style>\n",
       "<table border=\"1\" class=\"dataframe\">\n",
       "  <thead>\n",
       "    <tr style=\"text-align: right;\">\n",
       "      <th></th>\n",
       "      <th>train</th>\n",
       "      <th>test</th>\n",
       "      <th>eval</th>\n",
       "    </tr>\n",
       "  </thead>\n",
       "  <tbody>\n",
       "    <tr>\n",
       "      <th>Logestic Regression</th>\n",
       "      <td>79.62</td>\n",
       "      <td>70.58</td>\n",
       "      <td>73.5</td>\n",
       "    </tr>\n",
       "    <tr>\n",
       "      <th>Bi-LSTM</th>\n",
       "      <td>94.62</td>\n",
       "      <td>70.58</td>\n",
       "      <td>71.0</td>\n",
       "    </tr>\n",
       "    <tr>\n",
       "      <th>CNN</th>\n",
       "      <td>99.62</td>\n",
       "      <td>71.17</td>\n",
       "      <td>71.5</td>\n",
       "    </tr>\n",
       "    <tr>\n",
       "      <th>BERT</th>\n",
       "      <td>81.11</td>\n",
       "      <td>74.11</td>\n",
       "      <td>74.5</td>\n",
       "    </tr>\n",
       "  </tbody>\n",
       "</table>\n",
       "</div>"
      ],
      "text/plain": [
       "                     train   test  eval\n",
       "Logestic Regression  79.62  70.58  73.5\n",
       "Bi-LSTM              94.62  70.58  71.0\n",
       "CNN                  99.62  71.17  71.5\n",
       "BERT                 81.11  74.11  74.5"
      ]
     },
     "execution_count": 3,
     "metadata": {},
     "output_type": "execute_result"
    }
   ],
   "source": [
    "import pandas as pd\n",
    "results = {\n",
    "    'Logestic Regression':{\n",
    "        'train': 79.62,\n",
    "        'test': 70.58,\n",
    "        'eval': 73.5\n",
    "    },\n",
    "    'Bi-LSTM':{\n",
    "        'train': 94.62,\n",
    "        'test': 70.58,\n",
    "        'eval': 71\n",
    "    },\n",
    "    'CNN':{\n",
    "        'train': 99.62,\n",
    "        'test': 71.17,\n",
    "        'eval': 71.5\n",
    "    },\n",
    "    'BERT':{\n",
    "        'train': 81.11,\n",
    "        'test': 74.11,\n",
    "        'eval': 74.5\n",
    "    }\n",
    "}\n",
    "df = pd.DataFrame.from_dict(results, orient='index')\n",
    "df"
   ]
  },
  {
   "cell_type": "code",
   "execution_count": null,
   "id": "b9915bfa-9d63-44c6-85de-087f0a98d9bb",
   "metadata": {},
   "outputs": [],
   "source": []
  }
 ],
 "metadata": {
  "kernelspec": {
   "display_name": "Python 3",
   "language": "python",
   "name": "python3"
  },
  "language_info": {
   "codemirror_mode": {
    "name": "ipython",
    "version": 3
   },
   "file_extension": ".py",
   "mimetype": "text/x-python",
   "name": "python",
   "nbconvert_exporter": "python",
   "pygments_lexer": "ipython3",
   "version": "3.8.8"
  }
 },
 "nbformat": 4,
 "nbformat_minor": 5
}
