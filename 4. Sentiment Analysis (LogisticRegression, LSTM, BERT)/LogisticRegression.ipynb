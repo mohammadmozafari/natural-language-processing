{
 "cells": [
  {
   "cell_type": "code",
   "execution_count": 1,
   "metadata": {},
   "outputs": [
    {
     "data": {
      "text/html": [
       "<link href=\"https://v1.fontapi.ir/css/Vazir\" rel=\"stylesheet\">\n",
       "<link rel=\"stylesheet\" href=\"style.css\">\n"
      ],
      "text/plain": [
       "<IPython.core.display.HTML object>"
      ]
     },
     "metadata": {},
     "output_type": "display_data"
    }
   ],
   "source": [
    "%%html\n",
    "<link href=\"https://v1.fontapi.ir/css/Vazir\" rel=\"stylesheet\">\n",
    "<link rel=\"stylesheet\" href=\"style.css\">"
   ]
  },
  {
   "cell_type": "markdown",
   "metadata": {},
   "source": [
    "# <div class=\"farsi\">تمرین چهارم: Sentiment Analysis</div>\n",
    "## <div class=\"farsi right\">محمد علی صدرایی- 400210993</div>\n",
    "## <div class=\"farsi right\">محمد مظفری- 400201167</div>\n",
    "## <div class=\"farsi right\">علیرضا زارع نژاد- 400201101</div>"
   ]
  },
  {
   "cell_type": "code",
   "execution_count": 2,
   "metadata": {},
   "outputs": [],
   "source": [
    "# This cell contains all the necessary imports for this notebook.\n",
    "import re\n",
    "import time\n",
    "import shap\n",
    "import numpy as np\n",
    "import pandas as pd\n",
    "import seaborn as sns\n",
    "from sklearn import metrics\n",
    "import matplotlib.pyplot as plt\n",
    "from sklearn.linear_model import LogisticRegression\n",
    "from hazm import Normalizer, Stemmer, Lemmatizer, word_tokenize\n",
    "from sklearn.feature_extraction.text import TfidfVectorizer, CountVectorizer\n",
    "from sklearn.model_selection import train_test_split\n",
    "\n",
    "pd.set_option('display.max_colwidth', None)"
   ]
  },
  {
   "cell_type": "code",
   "execution_count": 3,
   "metadata": {},
   "outputs": [],
   "source": [
    "import arabic_reshaper\n",
    "from bidi.algorithm import get_display\n",
    "\n",
    "def fix_persian_list(list_of_str):\n",
    "    return [get_display(arabic_reshaper.reshape(item)) for item in list_of_str]"
   ]
  },
  {
   "cell_type": "code",
   "execution_count": 4,
   "metadata": {},
   "outputs": [],
   "source": [
    "# Here we read the data from given files.\n",
    "# Files are stored in a folder named \"data\" next to this notebook.\n",
    "\n",
    "train_df = pd.read_csv(\"data/train.csv\", encoding=\"utf-8\")\n",
    "eval_df = pd.read_csv(\"data/eval.csv\", encoding=\"utf-8\")"
   ]
  },
  {
   "cell_type": "markdown",
   "metadata": {},
   "source": [
    "<div class=\"farsi\">همانطور که در خروجی سلول بعد میبینیم فایل train دارای 800 داده و فایل eval دارای 200 داده برای ارزیابی دارد.</div>\n"
   ]
  },
  {
   "cell_type": "code",
   "execution_count": 5,
   "metadata": {},
   "outputs": [
    {
     "name": "stdout",
     "output_type": "stream",
     "text": [
      "<class 'pandas.core.frame.DataFrame'>\n",
      "RangeIndex: 800 entries, 0 to 799\n",
      "Data columns (total 3 columns):\n",
      " #   Column      Non-Null Count  Dtype  \n",
      "---  ------      --------------  -----  \n",
      " 0   Unnamed: 0  800 non-null    int64  \n",
      " 1   comment     800 non-null    object \n",
      " 2   rate        800 non-null    float64\n",
      "dtypes: float64(1), int64(1), object(1)\n",
      "memory usage: 18.9+ KB\n",
      "\n",
      "<class 'pandas.core.frame.DataFrame'>\n",
      "RangeIndex: 200 entries, 0 to 199\n",
      "Data columns (total 3 columns):\n",
      " #   Column      Non-Null Count  Dtype  \n",
      "---  ------      --------------  -----  \n",
      " 0   Unnamed: 0  200 non-null    int64  \n",
      " 1   comment     200 non-null    object \n",
      " 2   rate        200 non-null    float64\n",
      "dtypes: float64(1), int64(1), object(1)\n",
      "memory usage: 4.8+ KB\n"
     ]
    }
   ],
   "source": [
    "# A quick look inside the train and eval data.\n",
    "# We don't touch the test file yet.\n",
    "\n",
    "train_df.info()\n",
    "print()\n",
    "eval_df.info()"
   ]
  },
  {
   "cell_type": "code",
   "execution_count": 6,
   "metadata": {},
   "outputs": [
    {
     "data": {
      "text/html": [
       "<div>\n",
       "<style scoped>\n",
       "    .dataframe tbody tr th:only-of-type {\n",
       "        vertical-align: middle;\n",
       "    }\n",
       "\n",
       "    .dataframe tbody tr th {\n",
       "        vertical-align: top;\n",
       "    }\n",
       "\n",
       "    .dataframe thead th {\n",
       "        text-align: right;\n",
       "    }\n",
       "</style>\n",
       "<table border=\"1\" class=\"dataframe\">\n",
       "  <thead>\n",
       "    <tr style=\"text-align: right;\">\n",
       "      <th></th>\n",
       "      <th>Unnamed: 0</th>\n",
       "      <th>comment</th>\n",
       "      <th>rate</th>\n",
       "    </tr>\n",
       "  </thead>\n",
       "  <tbody>\n",
       "    <tr>\n",
       "      <th>0</th>\n",
       "      <td>2587</td>\n",
       "      <td>پردازنده های Core i5 و Core i3 نیز ذاتا دو هسته ای با توان ساختن دو هسته‌ی مجازی دیگر هستند.</td>\n",
       "      <td>0.00</td>\n",
       "    </tr>\n",
       "    <tr>\n",
       "      <th>1</th>\n",
       "      <td>22591</td>\n",
       "      <td>سلام به دوستای عزیزم \\nعزاداری هاتون قبول باشه</td>\n",
       "      <td>1.00</td>\n",
       "    </tr>\n",
       "    <tr>\n",
       "      <th>2</th>\n",
       "      <td>141037</td>\n",
       "      <td>کلا پولتون رو دور نریزیزد</td>\n",
       "      <td>-1.00</td>\n",
       "    </tr>\n",
       "    <tr>\n",
       "      <th>3</th>\n",
       "      <td>58593</td>\n",
       "      <td>از صمیم قلب امیدوارم دایانا با کارن بمونه و پوریا رو فراموش کنه</td>\n",
       "      <td>1.00</td>\n",
       "    </tr>\n",
       "    <tr>\n",
       "      <th>4</th>\n",
       "      <td>5712</td>\n",
       "      <td>آنطور که اپل ادعا می کند آیپاد شافل دارای طراحی فوق العاده است، که البته ادعایی غیر واقعی نیست.</td>\n",
       "      <td>1.00</td>\n",
       "    </tr>\n",
       "    <tr>\n",
       "      <th>5</th>\n",
       "      <td>168940</td>\n",
       "      <td>در کل کفش بدی نیست ولی من خودم دادشتم دور دوخت ولی با این قیمت این کفش ارزش خرید نداره</td>\n",
       "      <td>0.68</td>\n",
       "    </tr>\n",
       "    <tr>\n",
       "      <th>6</th>\n",
       "      <td>6751</td>\n",
       "      <td>به دلیل وجود پنل IPS بر روی این صفحه نمایش،  عملکرد آن در زوایای مختلف نیز بسیار مناسب و قابل قبول است.</td>\n",
       "      <td>1.00</td>\n",
       "    </tr>\n",
       "    <tr>\n",
       "      <th>7</th>\n",
       "      <td>43698</td>\n",
       "      <td>همکارم این دانگل رو خریده بود و بعد از گذشت حدود 10 روز استفاده میگفت که بسیار دانگل خوبی است. لگ ندارد. افت کیفیت ندارد. برد خوبی دارد در حد 5 متر، خیلی راحت متصل میشود و داغ نمیکند.\\nدر شگفت انگیز ارزش خرید بالایی دارد. \\nدیجی جان شگفت انگیزش کن من و چندتا دوستان میخوایم خرید کنیم.</td>\n",
       "      <td>0.20</td>\n",
       "    </tr>\n",
       "    <tr>\n",
       "      <th>8</th>\n",
       "      <td>34297</td>\n",
       "      <td>چقد فاصله داریم!!!</td>\n",
       "      <td>1.00</td>\n",
       "    </tr>\n",
       "    <tr>\n",
       "      <th>9</th>\n",
       "      <td>161474</td>\n",
       "      <td>خیلی زود شارژ خالی میکنه</td>\n",
       "      <td>0.82</td>\n",
       "    </tr>\n",
       "  </tbody>\n",
       "</table>\n",
       "</div>"
      ],
      "text/plain": [
       "   Unnamed: 0  \\\n",
       "0        2587   \n",
       "1       22591   \n",
       "2      141037   \n",
       "3       58593   \n",
       "4        5712   \n",
       "5      168940   \n",
       "6        6751   \n",
       "7       43698   \n",
       "8       34297   \n",
       "9      161474   \n",
       "\n",
       "                                                                                                                                                                                                                                                                                        comment  \\\n",
       "0                                                                                                                                                                                                  پردازنده های Core i5 و Core i3 نیز ذاتا دو هسته ای با توان ساختن دو هسته‌ی مجازی دیگر هستند.   \n",
       "1                                                                                                                                                                                                                                                سلام به دوستای عزیزم \\nعزاداری هاتون قبول باشه   \n",
       "2                                                                                                                                                                                                                                                                     کلا پولتون رو دور نریزیزد   \n",
       "3                                                                                                                                                                                                                               از صمیم قلب امیدوارم دایانا با کارن بمونه و پوریا رو فراموش کنه   \n",
       "4                                                                                                                                                                                               آنطور که اپل ادعا می کند آیپاد شافل دارای طراحی فوق العاده است، که البته ادعایی غیر واقعی نیست.   \n",
       "5                                                                                                                                                                                                        در کل کفش بدی نیست ولی من خودم دادشتم دور دوخت ولی با این قیمت این کفش ارزش خرید نداره   \n",
       "6                                                                                                                                                                                       به دلیل وجود پنل IPS بر روی این صفحه نمایش،  عملکرد آن در زوایای مختلف نیز بسیار مناسب و قابل قبول است.   \n",
       "7  همکارم این دانگل رو خریده بود و بعد از گذشت حدود 10 روز استفاده میگفت که بسیار دانگل خوبی است. لگ ندارد. افت کیفیت ندارد. برد خوبی دارد در حد 5 متر، خیلی راحت متصل میشود و داغ نمیکند.\\nدر شگفت انگیز ارزش خرید بالایی دارد. \\nدیجی جان شگفت انگیزش کن من و چندتا دوستان میخوایم خرید کنیم.   \n",
       "8                                                                                                                                                                                                                                                                            چقد فاصله داریم!!!   \n",
       "9                                                                                                                                                                                                                                                                      خیلی زود شارژ خالی میکنه   \n",
       "\n",
       "   rate  \n",
       "0  0.00  \n",
       "1  1.00  \n",
       "2 -1.00  \n",
       "3  1.00  \n",
       "4  1.00  \n",
       "5  0.68  \n",
       "6  1.00  \n",
       "7  0.20  \n",
       "8  1.00  \n",
       "9  0.82  "
      ]
     },
     "execution_count": 6,
     "metadata": {},
     "output_type": "execute_result"
    }
   ],
   "source": [
    "train_df.head(10)"
   ]
  },
  {
   "cell_type": "code",
   "execution_count": 7,
   "metadata": {},
   "outputs": [
    {
     "data": {
      "text/plain": [
       "Unnamed: 0    0.0\n",
       "comment       0.0\n",
       "rate          0.0\n",
       "dtype: float64"
      ]
     },
     "execution_count": 7,
     "metadata": {},
     "output_type": "execute_result"
    }
   ],
   "source": [
    "# check missing values (which there isn't any)\n",
    "train_df.isna().mean()"
   ]
  },
  {
   "cell_type": "markdown",
   "metadata": {},
   "source": [
    "<div class=\"farsi\">در این قسمت نگاهی به توزیع داده ها با برچسب های مختلف می اندازیم. در نمودار bar زیر میبینیم که برای هر بازه از مقادیر target چه تعداد داده آموزشی داریم.</div>"
   ]
  },
  {
   "cell_type": "code",
   "execution_count": 8,
   "metadata": {},
   "outputs": [
    {
     "data": {
      "text/plain": [
       "Text(0.5, 0, 'Number of rates')"
      ]
     },
     "execution_count": 8,
     "metadata": {},
     "output_type": "execute_result"
    },
    {
     "data": {
      "image/png": "[encoded data removed]",
      "text/plain": [
       "<Figure size 720x432 with 1 Axes>"
      ]
     },
     "metadata": {
      "needs_background": "light"
     },
     "output_type": "display_data"
    }
   ],
   "source": [
    "rates_count = train_df['rate'].value_counts()\n",
    "rates_count = rates_count.sort_index()\n",
    "\n",
    "fig = plt.figure(figsize=(10, 6))\n",
    "plt.bar(rates_count.index, rates_count.values, color ='maroon', width=0.1)\n",
    "plt.title(\"Train Ratings Distribution\", fontsize = 20)\n",
    "plt.ylabel('Number of comments', fontsize = 12)\n",
    "plt.xlabel('Number of rates', fontsize = 12)"
   ]
  },
  {
   "cell_type": "markdown",
   "metadata": {},
   "source": [
    "<div class=\"farsi justify\">چون هدف آموزش یک classifier است باید برچسب را به صورت categorical بدست آوریم. به همین دلیل به مقادیر بزرگتر از 0 برچسب 1 و به مقادیر 0 یا کوچکتر از از آن برچسب منفی 1 اختصاص میدهیم.</div>"
   ]
  },
  {
   "cell_type": "code",
   "execution_count": 9,
   "metadata": {},
   "outputs": [],
   "source": [
    "# convert rate to 1 and -1 for binary classification\n",
    "train_df.loc[train_df['rate'] >= 0, 'rate'] = 1\n",
    "train_df.loc[train_df['rate'] < 0, 'rate'] = 0\n",
    "\n",
    "eval_df.loc[eval_df['rate'] >= 0, 'rate'] = 1\n",
    "eval_df.loc[eval_df['rate'] < 0, 'rate'] = 0"
   ]
  },
  {
   "cell_type": "code",
   "execution_count": 10,
   "metadata": {},
   "outputs": [
    {
     "data": {
      "text/plain": [
       "Text(0.5, 0, 'Number of rates')"
      ]
     },
     "execution_count": 10,
     "metadata": {},
     "output_type": "execute_result"
    },
    {
     "data": {
      "image/png": "[encoded data removed]",
      "text/plain": [
       "<Figure size 720x432 with 1 Axes>"
      ]
     },
     "metadata": {
      "needs_background": "light"
     },
     "output_type": "display_data"
    }
   ],
   "source": [
    "rates_count = train_df['rate'].value_counts()\n",
    "rates_count = rates_count.sort_index()\n",
    "\n",
    "fig = plt.figure(figsize=(10, 6))\n",
    "plt.bar(rates_count.index, rates_count.values, color ='maroon', width=0.1)\n",
    "plt.title(\"Train Ratings Distribution\", fontsize = 20)\n",
    "plt.ylabel('Number of comments', fontsize = 12)\n",
    "plt.xlabel('Number of rates', fontsize = 12)"
   ]
  },
  {
   "cell_type": "code",
   "execution_count": 11,
   "metadata": {},
   "outputs": [],
   "source": [
    "# Tried balancing the dataset by copying negative class data\n",
    "# But didn't observe any improvement.\n",
    "\n",
    "# negative_copy1 = train_df[train_df.rate == 0].copy()\n",
    "# negative_copy2 = train_df[train_df.rate == 0].copy()\n",
    "# negative_copy3 = train_df[train_df.rate == 0].copy()\n",
    "\n",
    "# data = pd.concat([train_df, negative_copy1, negative_copy2, negative_copy3])\n",
    "# train_df = data"
   ]
  },
  {
   "cell_type": "code",
   "execution_count": 12,
   "metadata": {},
   "outputs": [],
   "source": [
    "# Let's create train and validation data\n",
    "y_train = train_df['rate'].values\n",
    "X_train = train_df['comment'].values\n",
    "y_val = eval_df['rate'].values\n",
    "X_val = eval_df['comment'].values"
   ]
  },
  {
   "cell_type": "code",
   "execution_count": 13,
   "metadata": {},
   "outputs": [],
   "source": [
    "def remove_non_persian_characters(s):\n",
    "    \"\"\"\n",
    "    This functino takes a string as input and deletes all characters except persian characters from it.\n",
    "    This preprocessing step will help the accuracy of our classifier.\n",
    "    \"\"\"\n",
    "\n",
    "    main_per_chars = 'ابپتثجچحخدذرزژسشصضطظعغفقکگلمنوهی'\n",
    "    other_per_chars = 'آئءيؤإأ'\n",
    "    white_space = '\\u200c '\n",
    "    per_digits = '۰۱۲۳۴۵۶۷۸۹'\n",
    "    s = re.sub(r'[^{}{}{}{}]'.format(main_per_chars,\n",
    "               other_per_chars, white_space, per_digits), '', s)\n",
    "    return s"
   ]
  },
  {
   "cell_type": "markdown",
   "metadata": {},
   "source": [
    "<div class=\"farsi justify\">قبل از آموزش مدل بهتر است یک مرحله پیش پردازش بر روی داده ها انجام شود. پیش پردازش انجام شده در این قسمت به این صورت است که تمام کلمات غیر فارسی حذف میشوند، از normalizer موجود در هضم استفاده میشود تا متن نرمال شود و همچنین کلمات را با استفاده از ابزار هضم به شکل stem شده برده میشوند.</div>"
   ]
  },
  {
   "cell_type": "code",
   "execution_count": 14,
   "metadata": {},
   "outputs": [],
   "source": [
    "normalizer = Normalizer()           # get hazm normalizer\n",
    "stemmer = Stemmer()                 # get hazm stemmer\n",
    "lemmatizer = Lemmatizer()           # get hazm lemmatizer (we don't use this because it makes accuracy worse)\n",
    "\n",
    "# Here we normalize our training data.\n",
    "for i in range(len(X_train)):\n",
    "    comment = X_train[i]\n",
    "    comment = remove_non_persian_characters(comment)\n",
    "    comment = ' '.join(comment.split())\n",
    "    comment = normalizer.normalize(comment)\n",
    "    comment = word_tokenize(comment)\n",
    "    comment = [stemmer.stem(token) for token in comment]\n",
    "    # comment = [lemmatizer.lemmatize(token) for token in comment]\n",
    "    comment = ' '.join(comment)\n",
    "    X_train[i] = comment\n",
    "\n",
    "# Here we normalize our validation data.\n",
    "for i in range(len(X_val)):\n",
    "    comment = X_val[i]\n",
    "    comment = remove_non_persian_characters(comment)\n",
    "    comment = ' '.join(comment.split())\n",
    "    comment = normalizer.normalize(comment)\n",
    "    comment = word_tokenize(comment)\n",
    "    comment = [stemmer.stem(token) for token in comment]\n",
    "    # comment = [lemmatizer.lemmatize(token) for token in comment]\n",
    "    comment = ' '.join(comment)\n",
    "    X_val[i] = comment\n"
   ]
  },
  {
   "cell_type": "code",
   "execution_count": 15,
   "metadata": {},
   "outputs": [],
   "source": [
    "start_time = time.time()\n",
    "cv = CountVectorizer(binary=True, min_df = 10, max_df = 0.95)\n",
    "cv.fit_transform(X_train);"
   ]
  },
  {
   "cell_type": "markdown",
   "metadata": {},
   "source": [
    "<div class=\"farsi justify\">حال زمان آموزش مدل فرا رسیده است. ابتدا feature ها استخراج میشوند. برای استخراج فیچر ها از Tfidf کلمات استفاده میکنیم. برای بدست آوردن tfidf هم از کتابخانه sklearn استفاده میشود.</div>\n",
    "<div class=\"farsi justify\">پس از اینکه فیچرهای هر داده بدست آورده شد میتوانیم یک مدل ساده logistic regression را بر روی داده ها آموزش دهیم. نیازی به پیاده سازی این مدل نیست زیرا در کتابخانه sklearn موجود است.</div>"
   ]
  },
  {
   "cell_type": "code",
   "execution_count": 16,
   "metadata": {},
   "outputs": [
    {
     "name": "stdout",
     "output_type": "stream",
     "text": [
      "Time takes to convert text input into feature vector:  0.0  mins\n"
     ]
    }
   ],
   "source": [
    "start_time = time.time()\n",
    "tfidf_v = TfidfVectorizer(use_idf=True, min_df = 10, max_df = 0.95)\n",
    "# tfidf_v = TfidfVectorizer(use_idf=True, min_df = 10, max_df = 0.2)\n",
    "# tfidf_v = TfidfVectorizer()\n",
    "tfidf_v.fit_transform(X_train)\n",
    "train_feature_set = tfidf_v.transform(X_train)              # extract features for train data\n",
    "val_feature_set = tfidf_v.transform(X_val)                  # extract features for validation data\n",
    "print(\"Time takes to convert text input into feature vector: \", round((time.time() - start_time) / 60, 2), \" mins\")\n"
   ]
  },
  {
   "cell_type": "code",
   "execution_count": 17,
   "metadata": {},
   "outputs": [
    {
     "name": "stdout",
     "output_type": "stream",
     "text": [
      "Time takes to train model and make predictions:  0.0  mins\n"
     ]
    }
   ],
   "source": [
    "start_time = time.time()\n",
    "lr = LogisticRegression(solver = 'liblinear', random_state = 42, max_iter=1000)\n",
    "lr.fit(train_feature_set, y_train)              # train model on training data\n",
    "y_pred = lr.predict(val_feature_set)            # predict validation data labels\n",
    "print(\"Time takes to train model and make predictions: \", round((time.time() - start_time) / 60, 2), \" mins\")\n"
   ]
  },
  {
   "cell_type": "markdown",
   "metadata": {},
   "source": [
    "<div class=\"farsi\">پس از آموزش مدل، نتیجه عملکرد مدل بر روی داده های validation به صورت زیر است. همچنین در سلول بعدی confusion matrix نیز رسم شده است.</div>"
   ]
  },
  {
   "cell_type": "code",
   "execution_count": 18,
   "metadata": {},
   "outputs": [
    {
     "name": "stdout",
     "output_type": "stream",
     "text": [
      "Train Accuracy:  0.79625\n",
      "Train F1:  0.8805860805860806\n",
      "\n",
      "Validation Accuracy:  0.735\n",
      "Validation F1:  0.8436578171091446\n"
     ]
    }
   ],
   "source": [
    "y_pred_train = lr.predict(train_feature_set)\n",
    "\n",
    "# Report accuracy and f1 score on train and validation sets.\n",
    "print(\"Train Accuracy: \", metrics.accuracy_score(y_train, y_pred_train))\n",
    "print(\"Train F1: \", metrics.f1_score(y_train, y_pred_train))\n",
    "print()\n",
    "print(\"Validation Accuracy: \", metrics.accuracy_score(y_val, y_pred))\n",
    "print(\"Validation F1: \", metrics.f1_score(y_val, y_pred))"
   ]
  },
  {
   "cell_type": "code",
   "execution_count": 19,
   "metadata": {},
   "outputs": [
    {
     "data": {
      "text/plain": [
       "Text(0.5, 1.0, 'Logistic Regression Confusion matrix, with normalization')"
      ]
     },
     "execution_count": 19,
     "metadata": {},
     "output_type": "execute_result"
    },
    {
     "data": {
      "image/png": "[encoded data removed]",
      "text/plain": [
       "<Figure size 432x288 with 2 Axes>"
      ]
     },
     "metadata": {
      "needs_background": "light"
     },
     "output_type": "display_data"
    }
   ],
   "source": [
    "disp = metrics.plot_confusion_matrix(lr, val_feature_set, y_val,\n",
    "                                 display_labels=['Class 0', 'Class 1'],\n",
    "                                 cmap=plt.cm.Blues,\n",
    "                                 normalize='true')\n",
    "disp.ax_.set_title('Logistic Regression Confusion matrix, with normalization')"
   ]
  },
  {
   "cell_type": "markdown",
   "metadata": {},
   "source": [
    "<div class=\"farsi\">در نهایت مدل به دست آمده را بر روی داده تست ارزیابی میکنیم</div>"
   ]
  },
  {
   "cell_type": "code",
   "execution_count": 20,
   "metadata": {},
   "outputs": [
    {
     "name": "stdout",
     "output_type": "stream",
     "text": [
      "Train Accuracy: 0.79625\n",
      "Train F1: 0.8805860805860806\n",
      "\n",
      "Test Accuracy: 0.7058823529411765\n",
      "Test F1: 0.8214285714285714\n",
      "\n",
      "Eval Accuracy: 0.735\n",
      "Eval F1: 0.8436578171091446\n",
      "\n"
     ]
    }
   ],
   "source": [
    "# Read test data\n",
    "train_df = pd.read_csv(\"data/train.csv\", encoding=\"utf-8\")\n",
    "eval_df = pd.read_csv(\"data/eval.csv\", encoding=\"utf-8\")\n",
    "test_df = pd.read_csv(\"data/test.csv\", encoding=\"utf-8\")\n",
    "\n",
    "def calc_accuracy_lr(lr, df):\n",
    "    df.loc[df['rate'] >= 0, 'rate'] = 1\n",
    "    df.loc[df['rate'] < 0, 'rate'] = 0\n",
    "\n",
    "    _y = df['rate'].values\n",
    "    _x = df['comment'].values\n",
    "\n",
    "\n",
    "    # Here we normalize our test data.\n",
    "    for i in range(len(_x)):\n",
    "        comment = _x[i]\n",
    "        comment = remove_non_persian_characters(comment)\n",
    "        comment = ' '.join(comment.split())\n",
    "        comment = normalizer.normalize(comment)\n",
    "        comment = word_tokenize(comment)\n",
    "        comment = [stemmer.stem(token) for token in comment]\n",
    "        # comment = [lemmatizer.lemmatize(token) for token in comment]\n",
    "        comment = ' '.join(comment)\n",
    "        _x[i] = comment\n",
    "\n",
    "    # Extract Tfidf features.\n",
    "    feature_set = tfidf_v.transform(_x)\n",
    "\n",
    "    # Predict labels using logistic regression model.\n",
    "    y_pred_test = lr.predict(feature_set)\n",
    "    \n",
    "    acc = metrics.accuracy_score(_y, y_pred_test)\n",
    "    f1 = metrics.f1_score(_y, y_pred_test)\n",
    "    return acc, f1\n",
    "\n",
    "# Report accuracy and f1 score.\n",
    "for df, dataset_label in [(train_df, 'Train'), (test_df, 'Test'), (eval_df, 'Eval')]:\n",
    "    acc, f1 = calc_accuracy_lr(lr, df)\n",
    "    print(f\"{dataset_label} Accuracy: {acc}\")\n",
    "    print(f\"{dataset_label} F1: {f1}\")\n",
    "    print()\n"
   ]
  },
  {
   "cell_type": "markdown",
   "metadata": {},
   "source": [
    "<div class=\"farsi justify\">در سلول های بعدی کلمات کلیدی برای دسته بندی آورده شده است. آنچه در نمودار ها نشان داده شده، کلماتی هستند که در داده های آن کلاس سهم بیشتری داشته اند.</div>"
   ]
  },
  {
   "cell_type": "code",
   "execution_count": 21,
   "metadata": {},
   "outputs": [
    {
     "name": "stdout",
     "output_type": "stream",
     "text": [
      "['نیز', 'دوربین', 'نظر', 'کاملا', 'قشنگ', 'می', 'هس', 'وجود', 'بسیار', 'خود']\n"
     ]
    },
    {
     "name": "stderr",
     "output_type": "stream",
     "text": [
      "Pass the following variables as keyword args: x, y. From version 0.12, the only valid positional argument will be `data`, and passing other arguments without an explicit keyword will result in an error or misinterpretation.\n"
     ]
    },
    {
     "data": {
      "text/plain": [
       "Text(0.5, 0, 'Word')"
      ]
     },
     "execution_count": 21,
     "metadata": {},
     "output_type": "execute_result"
    },
    {
     "data": {
      "image/png": "[encoded data removed]",
      "text/plain": [
       "<Figure size 720x432 with 1 Axes>"
      ]
     },
     "metadata": {
      "needs_background": "light"
     },
     "output_type": "display_data"
    }
   ],
   "source": [
    "TOP = 10\n",
    "\n",
    "feature_importance = lr.coef_[0]\n",
    "sorted_idx = np.argsort(feature_importance)\n",
    "\n",
    "top_pos_w = [list(cv.vocabulary_.keys())[list(cv.vocabulary_.values()).index(w)] for w in sorted_idx[range(-1,-TOP-1, -1)]]\n",
    "\n",
    "print(top_pos_w)\n",
    "\n",
    "fig = plt.figure(figsize=(10, 6))\n",
    "ax = sns.barplot(fix_persian_list(top_pos_w), feature_importance[sorted_idx[range(-1,-TOP-1, -1)]])\n",
    "plt.title(\"Most Important Words Used for Negative Sentiment\", fontsize=20)\n",
    "x_locs, x_labels = plt.xticks()\n",
    "plt.setp(x_labels, rotation=40)\n",
    "plt.ylabel('Feature Importance', fontsize=12)\n",
    "plt.xlabel('Word', fontsize=12)"
   ]
  },
  {
   "cell_type": "code",
   "execution_count": 22,
   "metadata": {},
   "outputs": [
    {
     "name": "stdout",
     "output_type": "stream",
     "text": [
      "['خو', 'اصلا', 'خوشمزه', 'ارسال', 'موقع', 'کیف', 'بود', 'قیمت', 'زیر', 'تازه']\n"
     ]
    },
    {
     "name": "stderr",
     "output_type": "stream",
     "text": [
      "Pass the following variables as keyword args: x, y. From version 0.12, the only valid positional argument will be `data`, and passing other arguments without an explicit keyword will result in an error or misinterpretation.\n"
     ]
    },
    {
     "data": {
      "text/plain": [
       "Text(0.5, 0, 'Word')"
      ]
     },
     "execution_count": 22,
     "metadata": {},
     "output_type": "execute_result"
    },
    {
     "data": {
      "image/png": "[encoded data removed]",
      "text/plain": [
       "<Figure size 720x432 with 1 Axes>"
      ]
     },
     "metadata": {
      "needs_background": "light"
     },
     "output_type": "display_data"
    }
   ],
   "source": [
    "TOP = 10\n",
    "\n",
    "sorted_idx = np.argsort(feature_importance)\n",
    "\n",
    "top_neg_w = [list(cv.vocabulary_.keys())[list(cv.vocabulary_.values()).index(w)] for w in sorted_idx[:TOP]]\n",
    "\n",
    "print(top_neg_w)\n",
    "\n",
    "fig = plt.figure(figsize=(10, 6))\n",
    "ax = sns.barplot(fix_persian_list(top_neg_w), feature_importance[sorted_idx[:TOP]])\n",
    "plt.title(\"Most Important Words Used for Positive Sentiment\", fontsize=20)\n",
    "x_locs,x_labels = plt.xticks()\n",
    "plt.setp(x_labels, rotation=40)\n",
    "plt.ylabel('Feature Importance', fontsize=12)\n",
    "plt.xlabel('Word', fontsize=12)"
   ]
  },
  {
   "cell_type": "code",
   "execution_count": 23,
   "metadata": {},
   "outputs": [
    {
     "name": "stderr",
     "output_type": "stream",
     "text": [
      "The option feature_dependence has been renamed to feature_perturbation!\n",
      "The option feature_perturbation=\"independent\" is has been renamed to feature_perturbation=\"interventional\"!\n",
      "The feature_perturbation option is now deprecated in favor of using the appropriate masker (maskers.Independent, or maskers.Impute)\n"
     ]
    }
   ],
   "source": [
    "explainer = shap.LinearExplainer(lr, train_feature_set, feature_dependence=\"independent\")\n",
    "test_feature_set = tfidf_v.transform(test_df['comment'].values)\n",
    "shap_values = explainer.shap_values(test_feature_set)\n",
    "X_test_array = test_feature_set.toarray() # we need to pass a dense version for the plotting functions"
   ]
  },
  {
   "cell_type": "code",
   "execution_count": 24,
   "metadata": {},
   "outputs": [
    {
     "data": {
      "image/png": "[encoded data removed]",
      "text/plain": [
       "<Figure size 576x684 with 2 Axes>"
      ]
     },
     "metadata": {
      "needs_background": "light"
     },
     "output_type": "display_data"
    }
   ],
   "source": [
    "shap.summary_plot(shap_values, X_test_array, feature_names=fix_persian_list(tfidf_v.get_feature_names()))"
   ]
  }
 ],
 "metadata": {
  "interpreter": {
   "hash": "b3ba2566441a7c06988d0923437866b63cedc61552a5af99d1f4fb67d367b25f"
  },
  "kernelspec": {
   "display_name": "Python 3",
   "language": "python",
   "name": "python3"
  },
  "language_info": {
   "codemirror_mode": {
    "name": "ipython",
    "version": 3
   },
   "file_extension": ".py",
   "mimetype": "text/x-python",
   "name": "python",
   "nbconvert_exporter": "python",
   "pygments_lexer": "ipython3",
   "version": "3.8.8"
  }
 },
 "nbformat": 4,
 "nbformat_minor": 4
}
