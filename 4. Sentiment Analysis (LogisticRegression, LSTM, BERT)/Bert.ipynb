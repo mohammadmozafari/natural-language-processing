{
 "cells": [
  {
   "cell_type": "markdown",
   "id": "02c86e7e-70b7-4d99-9be0-1c082048ec0f",
   "metadata": {},
   "source": [
    "# Defining notebook parameters"
   ]
  },
  {
   "cell_type": "code",
   "execution_count": 26,
   "id": "70d1f55b-22fe-45df-b98d-14c01d0a4431",
   "metadata": {},
   "outputs": [],
   "source": [
    "PRE_TRAINED_MODEL_NAME = 'HooshvareLab/bert-fa-base-uncased-sentiment-snappfood'\n",
    "\n",
    "BASE_FILE_NAME = 'bert_fine_tuned'\n",
    "MAX_LENGTH = 128\n",
    "BATCH_SIZE = 8\n",
    "EPOCHS = 1800\n",
    "\n",
    "FREEZE_BERT = True\n",
    "\n",
    "POSITIVE_NEGATIVE_THRESHOLD = 0\n",
    "POSITIVE = 1\n",
    "NEGATIVE = 0\n",
    "\n",
    "LR = 5e-5\n",
    "TQDM_TRAINING = False\n",
    "\n",
    "CV_FILE = './data/eval.csv'\n",
    "TRAIN_FILE = './data/train.csv'\n",
    "TEST_FILE = './data/test.csv'"
   ]
  },
  {
   "cell_type": "markdown",
   "id": "d9ed0bda-c4ea-4c94-9a22-2d9fda1b54ed",
   "metadata": {},
   "source": [
    "# Read all provided files as pandas' dataframes"
   ]
  },
  {
   "cell_type": "code",
   "execution_count": 27,
   "id": "63bdb3d9-cae0-48b1-8982-18848f15ad8a",
   "metadata": {},
   "outputs": [],
   "source": [
    "import pandas as pd\n",
    "\n",
    "cv_df = pd.read_csv(CV_FILE)\n",
    "train_df = pd.read_csv(TRAIN_FILE)\n",
    "test_df = pd.read_csv(TEST_FILE)"
   ]
  },
  {
   "cell_type": "markdown",
   "id": "092b659d-c3f4-4b46-9400-f3fa34bab8c3",
   "metadata": {},
   "source": [
    "# Download and load model from internet"
   ]
  },
  {
   "cell_type": "code",
   "execution_count": 28,
   "id": "1a30e658-e14f-49fe-a9aa-bc7c76074bd1",
   "metadata": {},
   "outputs": [],
   "source": [
    "from transformers import pipeline, AutoTokenizer, AutoConfig, BertForSequenceClassification\n",
    "\n",
    "tokenizer = AutoTokenizer.from_pretrained(PRE_TRAINED_MODEL_NAME)\n",
    "\n",
    "model =  BertForSequenceClassification.from_pretrained(PRE_TRAINED_MODEL_NAME)"
   ]
  },
  {
   "cell_type": "markdown",
   "id": "a89d82af-8778-40fa-89ce-6d2bb44770bc",
   "metadata": {},
   "source": [
    "# Freeze bert weights"
   ]
  },
  {
   "cell_type": "code",
   "execution_count": 29,
   "id": "d91a814e-1b6c-4dd5-ad90-01fb7114fce7",
   "metadata": {},
   "outputs": [],
   "source": [
    "def freeze_submodel(submodel):\n",
    "    for param in submodel.parameters():\n",
    "        param.requires_grad = False\n",
    "        \n",
    "if FREEZE_BERT:\n",
    "    freeze_submodel(model.bert)"
   ]
  },
  {
   "cell_type": "markdown",
   "id": "29a11274-7ea8-44de-a93f-2434319c59bd",
   "metadata": {},
   "source": [
    "# Convert all dataframes to pytorch dataset"
   ]
  },
  {
   "cell_type": "code",
   "execution_count": 30,
   "id": "f420c0ac-4041-4fab-a0cc-457e103db170",
   "metadata": {},
   "outputs": [],
   "source": [
    "from torch.utils.data import Dataset\n",
    "\n",
    "class SentimentDataset(Dataset):\n",
    "    def __init__(self, df: pd.DataFrame, tokenizer):\n",
    "        rows = []\n",
    "    \n",
    "        for row in df.itertuples():\n",
    "            tokenized = tokenizer(row.comment, padding='max_length', truncation='longest_first', max_length=MAX_LENGTH)\n",
    "            tokenized['label'] = POSITIVE if row.rate >= POSITIVE_NEGATIVE_THRESHOLD else NEGATIVE\n",
    "            rows.append(tokenized)\n",
    "                \n",
    "        self.__rows = rows\n",
    "        \n",
    "    def __len__(self):\n",
    "        return len(self.__rows)\n",
    "    \n",
    "    def __getitem__(self, idx):\n",
    "        return self.__rows[idx]"
   ]
  },
  {
   "cell_type": "code",
   "execution_count": 31,
   "id": "d01ba5aa-5ef2-4d22-a488-5c3028eec878",
   "metadata": {},
   "outputs": [],
   "source": [
    "cv_dataset = SentimentDataset(cv_df, tokenizer)\n",
    "train_dataset = SentimentDataset(train_df, tokenizer)\n",
    "test_dataset = SentimentDataset(test_df, tokenizer)"
   ]
  },
  {
   "cell_type": "markdown",
   "id": "613d99fb-d9d2-41bf-b162-2861126eb1ef",
   "metadata": {},
   "source": [
    "# Initialize trainer"
   ]
  },
  {
   "cell_type": "code",
   "execution_count": 7,
   "id": "efbd809d-138c-4024-a767-9b344a812e1d",
   "metadata": {},
   "outputs": [],
   "source": [
    "from transformers import Trainer, TrainingArguments, TrainerCallback\n",
    "\n",
    "training_args = TrainingArguments(\n",
    "    output_dir=f\"./{BASE_FILE_NAME}_checkpoint\",\n",
    "    overwrite_output_dir=True,\n",
    "    num_train_epochs=EPOCHS,\n",
    "    save_steps=1_000,\n",
    "    save_total_limit=2,\n",
    "    logging_steps=100,\n",
    "    prediction_loss_only=True,\n",
    "    evaluation_strategy='steps',\n",
    "#     no_cuda = True,\n",
    "    per_device_train_batch_size=BATCH_SIZE,\n",
    "    per_device_eval_batch_size=BATCH_SIZE,\n",
    "    disable_tqdm=not TQDM_TRAINING,\n",
    "    learning_rate=LR\n",
    ")\n",
    "\n",
    "trainer = Trainer(\n",
    "    model=model,\n",
    "    args=training_args,\n",
    "    train_dataset=train_dataset,\n",
    "    eval_dataset=cv_dataset\n",
    ")"
   ]
  },
  {
   "cell_type": "markdown",
   "id": "1cde712c-d413-4a21-821a-448dcfb7e0ff",
   "metadata": {},
   "source": [
    "# Finetune the model"
   ]
  },
  {
   "cell_type": "code",
   "execution_count": null,
   "id": "aa4f69b1-1e73-4a3d-83c2-10f8f920da81",
   "metadata": {},
   "outputs": [],
   "source": [
    "trainer.train()"
   ]
  },
  {
   "cell_type": "markdown",
   "id": "4f492d29-9992-4f34-84b5-13e856643aac",
   "metadata": {},
   "source": [
    "# Save model for later use"
   ]
  },
  {
   "cell_type": "code",
   "execution_count": null,
   "id": "35077ca4-81c8-49ac-a8f6-5cf631872fda",
   "metadata": {},
   "outputs": [],
   "source": [
    "model.save_pretrained(f\"./{BASE_FILE_NAME}_final\")"
   ]
  },
  {
   "cell_type": "markdown",
   "id": "201eb519-10f9-46c3-b654-1e8193274e16",
   "metadata": {},
   "source": [
    "# Calc accuracy of model"
   ]
  },
  {
   "cell_type": "code",
   "execution_count": 36,
   "id": "ead6366e-b5a2-46e4-99bd-a4eef5a74eb6",
   "metadata": {},
   "outputs": [],
   "source": [
    "import torch\n",
    "\n",
    "def calc_accuracy_bert(model, dataset):\n",
    "    true_count=0\n",
    "    false_count=0\n",
    "\n",
    "    model.eval()\n",
    "    for idx, row in enumerate(dataset):\n",
    "        with torch.no_grad():\n",
    "            model_input = {}\n",
    "            expected_output = 0\n",
    "            for key, val in row.items():\n",
    "                if key == 'label':\n",
    "                    expected_output = val\n",
    "                else:\n",
    "                    model_input[key] = torch.tensor([val])\n",
    "\n",
    "            model_output = model(**model_input)\n",
    "            model_output_softmaxed = torch.softmax(model_output.logits, dim=1).tolist()[0]\n",
    "            predicted_output = 1 if model_output_softmaxed[1] > model_output_softmaxed[0] else 0\n",
    "\n",
    "            if predicted_output == expected_output:\n",
    "                true_count+=1\n",
    "            else:\n",
    "                false_count+=1\n",
    "    return true_count / (true_count + false_count)"
   ]
  },
  {
   "cell_type": "code",
   "execution_count": 37,
   "id": "c4376c16-3bf9-4fce-9f03-bdcf42366c51",
   "metadata": {},
   "outputs": [
    {
     "name": "stdout",
     "output_type": "stream",
     "text": [
      "train Accuracy: 0.81125\n",
      "test Accuracy: 0.7411764705882353\n",
      "eval Accuracy: 0.745\n"
     ]
    }
   ],
   "source": [
    "model = BertForSequenceClassification.from_pretrained(f\"./{BASE_FILE_NAME}_final\")\n",
    "for dataset, dataset_label in [(train_dataset, 'train'), (test_dataset, 'test'), (cv_dataset, 'eval')]:\n",
    "     print(f'{dataset_label} Accuracy: {calc_accuracy_bert(model, dataset)}')"
   ]
  },
  {
   "cell_type": "code",
   "execution_count": null,
   "id": "9a334e26-9d87-4173-a477-9b1abe3f0e03",
   "metadata": {},
   "outputs": [],
   "source": []
  }
 ],
 "metadata": {
  "kernelspec": {
   "display_name": "Python 3",
   "language": "python",
   "name": "python3"
  },
  "language_info": {
   "codemirror_mode": {
    "name": "ipython",
    "version": 3
   },
   "file_extension": ".py",
   "mimetype": "text/x-python",
   "name": "python",
   "nbconvert_exporter": "python",
   "pygments_lexer": "ipython3",
   "version": "3.8.8"
  }
 },
 "nbformat": 4,
 "nbformat_minor": 5
}
