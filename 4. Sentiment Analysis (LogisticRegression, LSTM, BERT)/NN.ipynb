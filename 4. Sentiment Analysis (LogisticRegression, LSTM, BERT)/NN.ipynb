{
 "cells": [
  {
   "cell_type": "markdown",
   "metadata": {
    "id": "UIr3QirB6dnA"
   },
   "source": [
    "# Get fast text\n",
    "Download FastText word vectors file for Persian"
   ]
  },
  {
   "cell_type": "code",
   "execution_count": 1,
   "metadata": {
    "colab": {
     "base_uri": "https://localhost:8080/"
    },
    "id": "eflm67mx6XKX",
    "outputId": "586d0aff-d668-4828-f8ab-5b380bfc399e"
   },
   "outputs": [],
   "source": [
    "# !wget https://dl.fbaipublicfiles.com/fasttext/vectors-wiki/wiki.fa.vec"
   ]
  },
  {
   "cell_type": "code",
   "execution_count": 2,
   "metadata": {
    "id": "NUYQ9gtE0-Tm"
   },
   "outputs": [],
   "source": [
    "import time\n",
    "import pandas as pd\n",
    "import seaborn as sns\n",
    "import numpy as np\n",
    "\n",
    "from sklearn.model_selection import train_test_split\n",
    "from sklearn.feature_extraction.text import TfidfVectorizer, CountVectorizer\n",
    "from sklearn.linear_model import LogisticRegression\n",
    "\n",
    "# keras\n",
    "from keras.preprocessing.text import Tokenizer\n",
    "from keras.preprocessing.sequence import pad_sequences\n",
    "\n",
    "from keras import optimizers\n",
    "from keras.models import Sequential\n",
    "from keras.layers import Dense, Input, Embedding, Dropout\n",
    "from keras.layers import GlobalMaxPool1D, MaxPooling1D, GlobalMaxPooling1D\n",
    "from keras.layers import CuDNNLSTM, LSTM, Bidirectional\n",
    "from keras.layers.convolutional import Conv1D\n",
    "# from keras.utils import plot_model\n",
    "\n",
    "# Word Embedding\n",
    "from gensim.models import KeyedVectors\n",
    "\n",
    "# Preprocessing\n",
    "# from stopwords_guilannlp import stopwords_output\n",
    "from hazm import *\n",
    "\n",
    "# Visualization\n",
    "import matplotlib.pyplot as plt\n",
    "import shap\n",
    "%matplotlib inline\n",
    "pd.set_option('display.max_colwidth', None)\n",
    "\n",
    "# Measuring metrics\n",
    "from sklearn import metrics\n",
    "from sklearn.metrics import f1_score"
   ]
  },
  {
   "cell_type": "markdown",
   "metadata": {
    "id": "ecZtnDCm6B4I"
   },
   "source": [
    "# Loading Data"
   ]
  },
  {
   "cell_type": "code",
   "execution_count": 3,
   "metadata": {
    "id": "uv9noUrU3XgY"
   },
   "outputs": [],
   "source": [
    "train_df = pd.read_csv(\"data/train.csv\", encoding=\"utf-8\")\n",
    "eval_df = pd.read_csv(\"data/eval.csv\", encoding=\"utf-8\")\n",
    "test_df = pd.read_csv(\"data/test.csv\", encoding=\"utf-8\")"
   ]
  },
  {
   "cell_type": "code",
   "execution_count": 4,
   "metadata": {
    "colab": {
     "base_uri": "https://localhost:8080/"
    },
    "id": "VxTLCQ0g6oSA",
    "outputId": "986d068f-7c5d-4158-b3fe-ad3864f6ba0f"
   },
   "outputs": [
    {
     "name": "stdout",
     "output_type": "stream",
     "text": [
      "<class 'pandas.core.frame.DataFrame'>\n",
      "RangeIndex: 800 entries, 0 to 799\n",
      "Data columns (total 3 columns):\n",
      " #   Column      Non-Null Count  Dtype  \n",
      "---  ------      --------------  -----  \n",
      " 0   Unnamed: 0  800 non-null    int64  \n",
      " 1   comment     800 non-null    object \n",
      " 2   rate        800 non-null    float64\n",
      "dtypes: float64(1), int64(1), object(1)\n",
      "memory usage: 18.9+ KB\n",
      "\n",
      "<class 'pandas.core.frame.DataFrame'>\n",
      "RangeIndex: 200 entries, 0 to 199\n",
      "Data columns (total 3 columns):\n",
      " #   Column      Non-Null Count  Dtype  \n",
      "---  ------      --------------  -----  \n",
      " 0   Unnamed: 0  200 non-null    int64  \n",
      " 1   comment     200 non-null    object \n",
      " 2   rate        200 non-null    float64\n",
      "dtypes: float64(1), int64(1), object(1)\n",
      "memory usage: 4.8+ KB\n",
      "\n",
      "<class 'pandas.core.frame.DataFrame'>\n",
      "RangeIndex: 170 entries, 0 to 169\n",
      "Data columns (total 3 columns):\n",
      " #   Column      Non-Null Count  Dtype  \n",
      "---  ------      --------------  -----  \n",
      " 0   Unnamed: 0  170 non-null    int64  \n",
      " 1   comment     170 non-null    object \n",
      " 2   rate        170 non-null    float64\n",
      "dtypes: float64(1), int64(1), object(1)\n",
      "memory usage: 4.1+ KB\n"
     ]
    }
   ],
   "source": [
    "train_df.info()\n",
    "print()\n",
    "eval_df.info()\n",
    "print()\n",
    "test_df.info()"
   ]
  },
  {
   "cell_type": "code",
   "execution_count": 5,
   "metadata": {
    "id": "N_Vzvpe03u9A"
   },
   "outputs": [],
   "source": [
    "# convert rate to 1 and -1 for binary classification\n",
    "train_df.loc[train_df['rate'] >= 0, 'rate'] = 1\n",
    "train_df.loc[train_df['rate'] < 0, 'rate'] = 0\n",
    "\n",
    "eval_df.loc[eval_df['rate'] >= 0, 'rate'] = 1\n",
    "eval_df.loc[eval_df['rate'] < 0, 'rate'] = 0\n",
    "\n",
    "test_df.loc[test_df['rate'] >= 0, 'rate'] = 1\n",
    "test_df.loc[test_df['rate'] < 0, 'rate'] = 0"
   ]
  },
  {
   "cell_type": "code",
   "execution_count": 6,
   "metadata": {
    "colab": {
     "base_uri": "https://localhost:8080/"
    },
    "id": "lZo6fQhb38yh",
    "outputId": "ed50edfd-d93e-4bbd-c0db-fe7374dfd9a4"
   },
   "outputs": [
    {
     "name": "stdout",
     "output_type": "stream",
     "text": [
      "{1.0: 606, 0.0: 194}\n"
     ]
    }
   ],
   "source": [
    "# See the data number of sentence in each category \n",
    "from collections import Counter\n",
    "cnt = Counter(train_df['rate'].values)\n",
    "cnt = dict(cnt)\n",
    "print(cnt)"
   ]
  },
  {
   "cell_type": "code",
   "execution_count": 7,
   "metadata": {
    "colab": {
     "base_uri": "https://localhost:8080/",
     "height": 297
    },
    "id": "tXz_7oGP4EUo",
    "outputId": "dcd5c840-85bf-4420-8586-24812caf4bd7"
   },
   "outputs": [
    {
     "data": {
      "image/png": "[encoded data removed]",
      "text/plain": [
       "<Figure size 432x288 with 1 Axes>"
      ]
     },
     "metadata": {},
     "output_type": "display_data"
    }
   ],
   "source": [
    "labels = list(cnt.keys())\n",
    "sizes = list(cnt.values())\n",
    "colors = ['#3fba36', '#66b3ff','#ffcc99','#ff9999', '#d44444']\n",
    "fig1, ax1 = plt.subplots()\n",
    "ax1.pie(sizes, labels=labels, colors=colors,\n",
    "        autopct='%1.1f%%', startangle=90)\n",
    "#draw circle\n",
    "centre_circle = plt.Circle((0,0),0.70,fc='white')\n",
    "fig = plt.gcf()\n",
    "fig.gca().add_artist(centre_circle)\n",
    "# Equal aspect ratio ensures that pie is drawn as a circle\n",
    "ax1.axis('equal')  \n",
    "plt.tight_layout()\n",
    "# Decomment following line if you want to save the figure\n",
    "# plt.savefig('distribution.png')\n",
    "plt.show()"
   ]
  },
  {
   "cell_type": "markdown",
   "metadata": {
    "id": "EogPq0oM4Jq4"
   },
   "source": [
    "# Preprocess"
   ]
  },
  {
   "cell_type": "code",
   "execution_count": 8,
   "metadata": {
    "id": "qOIelTQ_4MB4"
   },
   "outputs": [],
   "source": [
    "puncs = ['،', '.', ',', ':', ';', '\"']\n",
    "normalizer = Normalizer()\n",
    "lemmatizer = Lemmatizer()\n",
    "\n",
    "# turn a doc into clean tokens\n",
    "def clean_doc(doc):\n",
    "    # Normalize document using Hazm Normalizer\n",
    "    doc = normalizer.normalize(doc)\n",
    "    # Tokenize text\n",
    "    tokenized = word_tokenize(doc)\n",
    "    tokens = []\n",
    "    for t in tokenized:\n",
    "      temp = t\n",
    "      for p in puncs:\n",
    "        temp = temp.replace(p, '')\n",
    "      tokens.append(temp)\n",
    "    # tokens = [w for w in tokens if not w in stop_set]\n",
    "    # Remove stop words\n",
    "    tokens = [w for w in tokens if not len(w) <= 1]\n",
    "    tokens = [w for w in tokens if not w.isdigit()]\n",
    "    # Lemmatize sentence words using Hazm Lemmatizer\n",
    "    tokens = [lemmatizer.lemmatize(w) for w in tokens]\n",
    "    tokens = ' '.join(tokens)\n",
    "    return tokens"
   ]
  },
  {
   "cell_type": "markdown",
   "metadata": {
    "id": "suDXSZZC5vC3"
   },
   "source": [
    "# Prepare FastText Model"
   ]
  },
  {
   "cell_type": "code",
   "execution_count": 9,
   "metadata": {
    "id": "sA5OyczM5whX"
   },
   "outputs": [],
   "source": [
    "EMBEDDING_FILE = 'wiki.fa.vec'\n",
    "\n",
    "def import_with_gensim(file_address):\n",
    "  # Creating the model\n",
    "  ft_model = KeyedVectors.load_word2vec_format(file_address)\n",
    "  # Getting the tokens\n",
    "  ft_words = []\n",
    "  for ft_word in ft_model.vocab:\n",
    "      ft_words.append(ft_word)\n",
    "  return ft_model, ft_words\n",
    "  \n",
    "ft_model, ft_words = import_with_gensim(EMBEDDING_FILE)"
   ]
  },
  {
   "cell_type": "code",
   "execution_count": 10,
   "metadata": {
    "id": "zibaqHzT7hEO"
   },
   "outputs": [],
   "source": [
    "# FastText embedding dimensionality\n",
    "embed_size = 300"
   ]
  },
  {
   "cell_type": "code",
   "execution_count": 11,
   "metadata": {
    "id": "GkxHK-h57jO2"
   },
   "outputs": [],
   "source": [
    "# We get the mean and standard deviation of the embedding weights so that we could maintain the\n",
    "# same statistics for the rest of our own random generated weights.\n",
    "embedding_list = list()\n",
    "for w in ft_words:\n",
    "  embedding_list.append(ft_model[w])\n",
    "\n",
    "all_embedding = np.stack(embedding_list)\n",
    "emb_mean, emb_std = all_embedding.mean(), all_embedding.std()"
   ]
  },
  {
   "cell_type": "markdown",
   "metadata": {
    "id": "xidIfz277q52"
   },
   "source": [
    "# Apply preprocessing to data"
   ]
  },
  {
   "cell_type": "code",
   "execution_count": 12,
   "metadata": {
    "id": "9xf0sPal7sEe"
   },
   "outputs": [],
   "source": [
    "# Apply preprocessing step to training data\n",
    "x_train = train_df['comment'].values\n",
    "y_train = train_df['rate'].values\n",
    "train_docs = np.empty_like(x_train)\n",
    "for index, document in enumerate(x_train):\n",
    "  train_docs[index] = clean_doc(document)"
   ]
  },
  {
   "cell_type": "code",
   "execution_count": 13,
   "metadata": {
    "id": "Iw_RtmOS8Ba_"
   },
   "outputs": [],
   "source": [
    "# Apply preprocessing step to eval data\n",
    "x_eval = eval_df['comment'].values\n",
    "y_eval = eval_df['rate'].values\n",
    "eval_docs = np.empty_like(x_eval)\n",
    "for index, document in enumerate(x_eval):\n",
    "  eval_docs[index] = clean_doc(document)"
   ]
  },
  {
   "cell_type": "code",
   "execution_count": 14,
   "metadata": {
    "id": "AWl7k2208Eq-"
   },
   "outputs": [],
   "source": [
    "# Apply preprocessing step to eval data\n",
    "x_test = test_df['comment'].values\n",
    "y_test = test_df['rate'].values\n",
    "test_docs = np.empty_like(x_test)\n",
    "for index, document in enumerate(x_test):\n",
    "  test_docs[index] = clean_doc(document)"
   ]
  },
  {
   "cell_type": "markdown",
   "metadata": {
    "id": "HWfcSx5o8lle"
   },
   "source": [
    "# Setting tokenizer up"
   ]
  },
  {
   "cell_type": "code",
   "execution_count": 15,
   "metadata": {
    "id": "bPSdwBzu8mhm"
   },
   "outputs": [],
   "source": [
    "num_words = 2500\n",
    "\n",
    "# Create the tokenizer\n",
    "tokenizer = Tokenizer()\n",
    "\n",
    "# fFt the tokenizer on the training documents\n",
    "tokenizer.fit_on_texts(train_docs)"
   ]
  },
  {
   "cell_type": "code",
   "execution_count": 16,
   "metadata": {
    "colab": {
     "base_uri": "https://localhost:8080/"
    },
    "id": "p8pY7sQS9Mf2",
    "outputId": "3aee622c-fc2a-472c-cf44-c894ccc2da90"
   },
   "outputs": [
    {
     "name": "stdout",
     "output_type": "stream",
     "text": [
      "max length: 598\n"
     ]
    }
   ],
   "source": [
    "# Find maximum length of training sentences\n",
    "max_length = max([len(s.split()) for s in train_docs])\n",
    "print(\"max length:\", max_length)"
   ]
  },
  {
   "cell_type": "markdown",
   "metadata": {
    "id": "-g2WUOUO9WIt"
   },
   "source": [
    "# Embed sentences"
   ]
  },
  {
   "cell_type": "code",
   "execution_count": 17,
   "metadata": {
    "id": "S2r1aory9YE1"
   },
   "outputs": [],
   "source": [
    "# Embed training sequences\n",
    "encoded_docs = tokenizer.texts_to_sequences(train_docs)\n",
    "\n",
    "# Pad embeded training sequences\n",
    "x_train_padded = pad_sequences(encoded_docs, maxlen=max_length, padding='post')"
   ]
  },
  {
   "cell_type": "code",
   "execution_count": 18,
   "metadata": {
    "colab": {
     "base_uri": "https://localhost:8080/"
    },
    "id": "5LIUkF689kK2",
    "outputId": "70948d95-e815-499c-c824-e2ad07d868ed"
   },
   "outputs": [
    {
     "name": "stdout",
     "output_type": "stream",
     "text": [
      "vocab size: 3718\n"
     ]
    }
   ],
   "source": [
    "# Define vocabulary size (largest integer value)\n",
    "vocab_size = len(tokenizer.word_index)\n",
    "print('vocab size:', vocab_size)"
   ]
  },
  {
   "cell_type": "code",
   "execution_count": 19,
   "metadata": {
    "colab": {
     "base_uri": "https://localhost:8080/"
    },
    "id": "lQNADr9N9tZ9",
    "outputId": "1e069740-8910-4275-89b2-74b873040c5b"
   },
   "outputs": [
    {
     "name": "stdout",
     "output_type": "stream",
     "text": [
      "total embedded: 3718 common words\n",
      "Embedding matrix shape: (3718, 300)\n"
     ]
    }
   ],
   "source": [
    "nb_words = len(tokenizer.word_index)\n",
    "\n",
    "# the size will be Number of Words in Vocab X Embedding Size\n",
    "embedding_matrix = np.random.normal(emb_mean, emb_std, (nb_words, embed_size))\n",
    "\n",
    "embeddedCount = 0\n",
    "for word, i in tokenizer.word_index.items():\n",
    "    i -= 1\n",
    "    if word in ft_model.vocab:\n",
    "        embedding_vector = ft_model[word]\n",
    "        embedding_matrix[i] = embedding_vector\n",
    "        embeddedCount += 1\n",
    "    # Unknown words\n",
    "    else:  \n",
    "        embedding_vector = ft_model['subdivision_name']\n",
    "        embedding_matrix[i] = embedding_vector\n",
    "        embeddedCount += 1\n",
    "\n",
    "print('total embedded:', embeddedCount, 'common words')\n",
    "print('Embedding matrix shape:', embedding_matrix.shape)"
   ]
  },
  {
   "cell_type": "code",
   "execution_count": 20,
   "metadata": {
    "id": "056XmiIl97bN"
   },
   "outputs": [],
   "source": [
    "# Embed testing sequences\n",
    "encoded_docs = tokenizer.texts_to_sequences(test_docs)\n",
    "# Pad testing sequences\n",
    "x_test_padded = pad_sequences(encoded_docs, maxlen=max_length, padding='post')"
   ]
  },
  {
   "cell_type": "code",
   "execution_count": 21,
   "metadata": {
    "id": "458UNegS9951"
   },
   "outputs": [],
   "source": [
    "# Embed eval sequences\n",
    "encoded_docs = tokenizer.texts_to_sequences(eval_docs)\n",
    "# Pad eval sequences\n",
    "x_eval_padded = pad_sequences(encoded_docs, maxlen=max_length, padding='post')"
   ]
  },
  {
   "cell_type": "markdown",
   "metadata": {
    "id": "GUhmIo9x-JS8"
   },
   "source": [
    "# Model"
   ]
  },
  {
   "cell_type": "markdown",
   "metadata": {
    "id": "iiVpNSq6-OPU"
   },
   "source": [
    "# CNN Model"
   ]
  },
  {
   "cell_type": "code",
   "execution_count": 22,
   "metadata": {
    "id": "pcjx9av8-Kfd"
   },
   "outputs": [],
   "source": [
    "model_cnn = Sequential()\n",
    "model_cnn.add(Embedding(vocab_size, embedding_matrix.shape[1], weights=[embedding_matrix], trainable=False))\n",
    "model_cnn.add(Conv1D(filters=64, kernel_size=3, activation='relu', padding='same'))\n",
    "model_cnn.add(MaxPooling1D(pool_size=2))\n",
    "model_cnn.add(Conv1D(filters=64, kernel_size=5, activation='relu', padding='same'))\n",
    "model_cnn.add(MaxPooling1D(pool_size=2))\n",
    "model_cnn.add(Conv1D(filters=64, kernel_size=7, activation='relu', padding='same'))\n",
    "model_cnn.add(GlobalMaxPooling1D())\n",
    "model_cnn.add(Dropout(0.1))\n",
    "model_cnn.add(Dense(500, activation=\"sigmoid\"))\n",
    "model_cnn.add(Dense(1, activation='sigmoid'))"
   ]
  },
  {
   "cell_type": "code",
   "execution_count": 23,
   "metadata": {
    "colab": {
     "base_uri": "https://localhost:8080/"
    },
    "id": "RX5K-eKD_UI1",
    "outputId": "a2a62d99-ebc6-4c5e-edeb-2c53da34f72b"
   },
   "outputs": [
    {
     "name": "stdout",
     "output_type": "stream",
     "text": [
      "Model: \"sequential\"\n",
      "_________________________________________________________________\n",
      " Layer (type)                Output Shape              Param #   \n",
      "=================================================================\n",
      " embedding (Embedding)       (None, None, 300)         1115400   \n",
      "                                                                 \n",
      " conv1d (Conv1D)             (None, None, 64)          57664     \n",
      "                                                                 \n",
      " max_pooling1d (MaxPooling1D  (None, None, 64)         0         \n",
      " )                                                               \n",
      "                                                                 \n",
      " conv1d_1 (Conv1D)           (None, None, 64)          20544     \n",
      "                                                                 \n",
      " max_pooling1d_1 (MaxPooling  (None, None, 64)         0         \n",
      " 1D)                                                             \n",
      "                                                                 \n",
      " conv1d_2 (Conv1D)           (None, None, 64)          28736     \n",
      "                                                                 \n",
      " global_max_pooling1d (Globa  (None, 64)               0         \n",
      " lMaxPooling1D)                                                  \n",
      "                                                                 \n",
      " dropout (Dropout)           (None, 64)                0         \n",
      "                                                                 \n",
      " dense (Dense)               (None, 500)               32500     \n",
      "                                                                 \n",
      " dense_1 (Dense)             (None, 1)                 501       \n",
      "                                                                 \n",
      "=================================================================\n",
      "Total params: 1,255,345\n",
      "Trainable params: 139,945\n",
      "Non-trainable params: 1,115,400\n",
      "_________________________________________________________________\n"
     ]
    }
   ],
   "source": [
    "model_cnn.compile(loss='binary_crossentropy',\n",
    "              optimizer='adam',\n",
    "              metrics=['accuracy'])\n",
    "\n",
    "model_cnn.summary()\n",
    "batch_size_cnn = 64\n",
    "epochs_cnn = 10"
   ]
  },
  {
   "cell_type": "code",
   "execution_count": 24,
   "metadata": {
    "colab": {
     "base_uri": "https://localhost:8080/"
    },
    "id": "a793L17K_YdE",
    "outputId": "9733211c-6992-420c-f51f-d69136e91d96"
   },
   "outputs": [
    {
     "name": "stdout",
     "output_type": "stream",
     "text": [
      "Epoch 1/10\n",
      "13/13 [==============================] - 2s 31ms/step - loss: 0.6813 - accuracy: 0.6375\n",
      "Epoch 2/10\n",
      "13/13 [==============================] - 0s 10ms/step - loss: 0.5515 - accuracy: 0.7575\n",
      "Epoch 3/10\n",
      "13/13 [==============================] - 0s 9ms/step - loss: 0.5492 - accuracy: 0.7575\n",
      "Epoch 4/10\n",
      "13/13 [==============================] - 0s 9ms/step - loss: 0.5435 - accuracy: 0.7575\n",
      "Epoch 5/10\n",
      "13/13 [==============================] - 0s 9ms/step - loss: 0.5352 - accuracy: 0.7575\n",
      "Epoch 6/10\n",
      "13/13 [==============================] - 0s 9ms/step - loss: 0.5206 - accuracy: 0.7575\n",
      "Epoch 7/10\n",
      "13/13 [==============================] - 0s 9ms/step - loss: 0.4869 - accuracy: 0.7575\n",
      "Epoch 8/10\n",
      "13/13 [==============================] - 0s 9ms/step - loss: 0.4412 - accuracy: 0.7875\n",
      "Epoch 9/10\n",
      "13/13 [==============================] - 0s 10ms/step - loss: 0.3781 - accuracy: 0.8275\n",
      "Epoch 10/10\n",
      "13/13 [==============================] - 0s 9ms/step - loss: 0.2639 - accuracy: 0.9150\n"
     ]
    }
   ],
   "source": [
    "# Train model\n",
    "hist_cnn = model_cnn.fit(x_train_padded, y_train, batch_size=batch_size_cnn, epochs=epochs_cnn)"
   ]
  },
  {
   "cell_type": "code",
   "execution_count": 25,
   "metadata": {},
   "outputs": [],
   "source": [
    "def eval_model(model):\n",
    "    loss, acc = model.evaluate(x_train_padded, y_train, verbose=0)\n",
    "    print('Train Accuracy: %f' % (acc))\n",
    "    loss, acc = model.evaluate(x_eval_padded, y_eval, verbose=0)\n",
    "    print('Eval Accuracy: %f' % (acc))\n",
    "    loss, acc = model.evaluate(x_test_padded, y_test, verbose=0)\n",
    "    print('Test Accuracy: %f' % (acc))\n"
   ]
  },
  {
   "cell_type": "code",
   "execution_count": 26,
   "metadata": {
    "colab": {
     "base_uri": "https://localhost:8080/"
    },
    "id": "hJKvuwVJApN8",
    "outputId": "292d2a45-7741-4a90-dbbf-9062eaa60b02"
   },
   "outputs": [
    {
     "name": "stdout",
     "output_type": "stream",
     "text": [
      "Train Accuracy: 0.946250\n",
      "Eval Accuracy: 0.710000\n",
      "Test Accuracy: 0.705882\n"
     ]
    }
   ],
   "source": [
    "# Evaluate model\n",
    "eval_model(model_cnn)"
   ]
  },
  {
   "cell_type": "markdown",
   "metadata": {
    "id": "uh0vtjfuNisr"
   },
   "source": [
    "# B-LSTM Model"
   ]
  },
  {
   "cell_type": "code",
   "execution_count": 27,
   "metadata": {
    "id": "6zFlf8zGNkjt"
   },
   "outputs": [],
   "source": [
    "model_blstm = Sequential()\n",
    "model_blstm.add(Embedding(vocab_size, embedding_matrix.shape[1], weights=[embedding_matrix], trainable=False))\n",
    "model_blstm.add(Bidirectional(CuDNNLSTM(300, return_sequences=True, name='lstm_layer')))\n",
    "model_blstm.add(GlobalMaxPool1D())\n",
    "model_blstm.add(Dropout(0.1))\n",
    "model_blstm.add(Dense(300, activation=\"relu\"))\n",
    "model_blstm.add(Dropout(0.1))\n",
    "model_blstm.add(Dense(1, activation='sigmoid'))"
   ]
  },
  {
   "cell_type": "code",
   "execution_count": 28,
   "metadata": {
    "colab": {
     "base_uri": "https://localhost:8080/"
    },
    "id": "1zO2mF9nPI1C",
    "outputId": "de38cdcb-3566-4995-d766-8a18f21e83ee"
   },
   "outputs": [
    {
     "name": "stdout",
     "output_type": "stream",
     "text": [
      "Model: \"sequential_1\"\n",
      "_________________________________________________________________\n",
      " Layer (type)                Output Shape              Param #   \n",
      "=================================================================\n",
      " embedding_1 (Embedding)     (None, None, 300)         1115400   \n",
      "                                                                 \n",
      " bidirectional (Bidirectiona  (None, None, 600)        1444800   \n",
      " l)                                                              \n",
      "                                                                 \n",
      " global_max_pooling1d_1 (Glo  (None, 600)              0         \n",
      " balMaxPooling1D)                                                \n",
      "                                                                 \n",
      " dropout_1 (Dropout)         (None, 600)               0         \n",
      "                                                                 \n",
      " dense_2 (Dense)             (None, 300)               180300    \n",
      "                                                                 \n",
      " dropout_2 (Dropout)         (None, 300)               0         \n",
      "                                                                 \n",
      " dense_3 (Dense)             (None, 1)                 301       \n",
      "                                                                 \n",
      "=================================================================\n",
      "Total params: 2,740,801\n",
      "Trainable params: 1,625,401\n",
      "Non-trainable params: 1,115,400\n",
      "_________________________________________________________________\n"
     ]
    }
   ],
   "source": [
    "model_blstm.compile(loss='binary_crossentropy',\n",
    "              optimizer='adam',\n",
    "              metrics=['accuracy'])\n",
    "\n",
    "model_blstm.summary()\n",
    "batch_size_blstm = 32\n",
    "epochs_blstm = 10"
   ]
  },
  {
   "cell_type": "code",
   "execution_count": 29,
   "metadata": {
    "colab": {
     "base_uri": "https://localhost:8080/"
    },
    "id": "FX4uOotfPLyr",
    "outputId": "84222844-0678-4f6c-cfe9-afcfbb4fb1b3"
   },
   "outputs": [
    {
     "name": "stdout",
     "output_type": "stream",
     "text": [
      "Epoch 1/10\n",
      "25/25 [==============================] - 4s 109ms/step - loss: 0.5800 - accuracy: 0.7575\n",
      "Epoch 2/10\n",
      "25/25 [==============================] - 3s 109ms/step - loss: 0.5522 - accuracy: 0.7575\n",
      "Epoch 3/10\n",
      "25/25 [==============================] - 3s 109ms/step - loss: 0.5312 - accuracy: 0.7575\n",
      "Epoch 4/10\n",
      "25/25 [==============================] - 3s 109ms/step - loss: 0.4953 - accuracy: 0.7588\n",
      "Epoch 5/10\n",
      "25/25 [==============================] - 3s 109ms/step - loss: 0.4643 - accuracy: 0.7800\n",
      "Epoch 6/10\n",
      "25/25 [==============================] - 3s 109ms/step - loss: 0.3820 - accuracy: 0.8238\n",
      "Epoch 7/10\n",
      "25/25 [==============================] - 3s 109ms/step - loss: 0.2454 - accuracy: 0.9137\n",
      "Epoch 8/10\n",
      "25/25 [==============================] - 3s 109ms/step - loss: 0.1514 - accuracy: 0.9525\n",
      "Epoch 9/10\n",
      "25/25 [==============================] - 3s 109ms/step - loss: 0.0779 - accuracy: 0.9812\n",
      "Epoch 10/10\n",
      "25/25 [==============================] - 3s 109ms/step - loss: 0.0392 - accuracy: 0.9925\n"
     ]
    }
   ],
   "source": [
    "# Train model\n",
    "hist_blstm = model_blstm.fit(x_train_padded, y_train, batch_size=batch_size_blstm, epochs=epochs_blstm)"
   ]
  },
  {
   "cell_type": "code",
   "execution_count": 30,
   "metadata": {
    "colab": {
     "base_uri": "https://localhost:8080/"
    },
    "id": "vT7sE7ZbPzLC",
    "outputId": "c498e501-d694-4727-c70d-491f3733338c"
   },
   "outputs": [
    {
     "name": "stdout",
     "output_type": "stream",
     "text": [
      "Train Accuracy: 0.997500\n",
      "Eval Accuracy: 0.715000\n",
      "Test Accuracy: 0.711765\n"
     ]
    }
   ],
   "source": [
    "# Evaluate model\n",
    "eval_model(model_blstm)"
   ]
  },
  {
   "cell_type": "code",
   "execution_count": null,
   "metadata": {},
   "outputs": [],
   "source": []
  }
 ],
 "metadata": {
  "accelerator": "GPU",
  "colab": {
   "collapsed_sections": [],
   "name": "Sentiment_CNN.ipynb",
   "provenance": []
  },
  "kernelspec": {
   "display_name": "Python 3",
   "language": "python",
   "name": "python3"
  },
  "language_info": {
   "codemirror_mode": {
    "name": "ipython",
    "version": 3
   },
   "file_extension": ".py",
   "mimetype": "text/x-python",
   "name": "python",
   "nbconvert_exporter": "python",
   "pygments_lexer": "ipython3",
   "version": "3.8.8"
  }
 },
 "nbformat": 4,
 "nbformat_minor": 4
}
