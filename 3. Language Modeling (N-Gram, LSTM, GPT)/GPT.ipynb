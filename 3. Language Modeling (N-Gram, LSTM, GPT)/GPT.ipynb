{
 "cells": [
  {
   "cell_type": "code",
   "execution_count": 1,
   "id": "c5e3f02f-70f0-41db-b538-153dafba8e15",
   "metadata": {},
   "outputs": [],
   "source": [
    "# pip install transformers accelerate tokenizers datasets\n",
    "# pip install hazm"
   ]
  },
  {
   "cell_type": "code",
   "execution_count": 1,
   "id": "f99820a0-5a81-4a25-ae69-1216bb6f3c33",
   "metadata": {},
   "outputs": [
    {
     "data": {
      "text/html": [
       "<link href=\"https://v1.fontapi.ir/css/Vazir\" rel=\"stylesheet\">\n",
       "<link rel=\"stylesheet\" href=\"style.css\">\n"
      ],
      "text/plain": [
       "<IPython.core.display.HTML object>"
      ]
     },
     "metadata": {},
     "output_type": "display_data"
    }
   ],
   "source": [
    "%%html\n",
    "<link href=\"https://v1.fontapi.ir/css/Vazir\" rel=\"stylesheet\">\n",
    "<link rel=\"stylesheet\" href=\"style.css\">"
   ]
  },
  {
   "cell_type": "markdown",
   "id": "e4df7d0b-5528-4828-bcf2-965000915e91",
   "metadata": {},
   "source": [
    "# <div class=\"farsi center\">بسم الله الرحمن الرحیم</div>"
   ]
  },
  {
   "cell_type": "code",
   "execution_count": 2,
   "id": "e034d844-3107-4768-a0a9-2993e67b9422",
   "metadata": {},
   "outputs": [],
   "source": [
    "import typing\n",
    "import copy\n",
    "import torch\n",
    "import tqdm"
   ]
  },
  {
   "cell_type": "code",
   "execution_count": 3,
   "id": "a3706fa3-9910-47a2-9ac3-a0b4b1f4afb1",
   "metadata": {},
   "outputs": [],
   "source": [
    "TRAIN_TOKENIZERS = False\n",
    "\n",
    "WORD_TOKENIZER_FILE_NAME = './wtoken.json'\n",
    "BPE_TOKENIZER_FILE_NAME = './bpetoken.json'\n",
    "\n",
    "BPE_VOCAB_SIZE = 10000\n",
    "WORD_LEVEL_VOCAB_SIZE = 5000\n",
    "\n",
    "UNK_TOKEN = \"[UNK]\"\n",
    "PAD_TOKEN = \"[PAD]\"\n",
    "SOS_TOKEN = \"[SOS]\"\n",
    "EOS_TOKEN = \"[EOS]\"\n",
    "ALL_TOKENS = [UNK_TOKEN, SOS_TOKEN, EOS_TOKEN, PAD_TOKEN]\n",
    "\n",
    "ALL_TRAINING_DATA = [\n",
    "    './cultural.txt',\n",
    "    './economics.txt',\n",
    "    './politics.txt',\n",
    "    './sports.txt'\n",
    "]\n",
    "\n",
    "LM_TRAINING_DATA = ['./t.txt'] #ALL_TRAINING_DATA[:1]"
   ]
  },
  {
   "cell_type": "markdown",
   "id": "e2d8b42c-ec71-4ddb-b133-ab5112ae9334",
   "metadata": {},
   "source": [
    "# <div class=\"green\">Tokenization</div>"
   ]
  },
  {
   "cell_type": "code",
   "execution_count": 4,
   "id": "9b5756da-c25b-40eb-aede-4b0749138806",
   "metadata": {},
   "outputs": [],
   "source": [
    "from tokenizers import Tokenizer\n",
    "from tokenizers.pre_tokenizers import Whitespace\n",
    "from tokenizers.models import WordLevel, BPE\n",
    "from tokenizers.trainers import WordLevelTrainer, BpeTrainer\n",
    "from tokenizers.processors import TemplateProcessing"
   ]
  },
  {
   "cell_type": "markdown",
   "id": "decb85c4-d005-4583-8ccb-f8e066c218f0",
   "metadata": {},
   "source": [
    "## <span class=\"blue\">Word Tokenizer</span>"
   ]
  },
  {
   "cell_type": "code",
   "execution_count": 5,
   "id": "40d0860e-f7ef-41cb-912f-94bdee2531fe",
   "metadata": {},
   "outputs": [],
   "source": [
    "if TRAIN_TOKENIZERS:\n",
    "    word_tokenizer = Tokenizer(WordLevel(unk_token=UNK_TOKEN))\n",
    "    word_tokenizer.pre_tokenizer = Whitespace()\n",
    "    word_trainer = WordLevelTrainer(vocab_size=WORD_LEVEL_VOCAB_SIZE, special_tokens=ALL_TOKENS)\n",
    "    word_tokenizer.train(ALL_TRAINING_DATA, word_trainer)\n",
    "    word_tokenizer.enable_padding(pad_token=PAD_TOKEN)\n",
    "    word_tokenizer.save(WORD_TOKENIZER_FILE_NAME)\n",
    "else:\n",
    "    word_tokenizer = Tokenizer.from_file(WORD_TOKENIZER_FILE_NAME)"
   ]
  },
  {
   "cell_type": "markdown",
   "id": "0121ec9f-fcac-47ce-8b6c-d0383ea54a70",
   "metadata": {},
   "source": [
    "## <span class=\"blue\">BPE Tokenizer</span>"
   ]
  },
  {
   "cell_type": "code",
   "execution_count": 8,
   "id": "8b6f3563-2d22-44f6-b4ea-3d134616abf5",
   "metadata": {},
   "outputs": [],
   "source": [
    "if TRAIN_TOKENIZERS:\n",
    "    bpe_tokenizer = Tokenizer(BPE(unk_token=UNK_TOKEN))\n",
    "    bpe_tokenizer.pre_tokenizer = Whitespace()\n",
    "    bpe_trainer = BpeTrainer(vocab_size=BPE_VOCAB_SIZE, special_tokens=ALL_TOKENS)\n",
    "    bpe_tokenizer.train(ALL_TRAINING_DATA, bpe_trainer)\n",
    "    bpe_tokenizer.enable_padding(pad_token=PAD_TOKEN)\n",
    "    bpe_tokenizer.save(BPE_TOKENIZER_FILE_NAME)\n",
    "else:\n",
    "    bpe_tokenizer = Tokenizer.from_file(BPE_TOKENIZER_FILE_NAME)"
   ]
  },
  {
   "cell_type": "markdown",
   "id": "76fb9736-3017-47ec-9b2d-5d6988ace805",
   "metadata": {},
   "source": [
    "## <span class=\"blue\">Post Processing</span>"
   ]
  },
  {
   "cell_type": "code",
   "execution_count": 9,
   "id": "d1aa36fb-f760-4af8-82d3-3b02db1052ed",
   "metadata": {},
   "outputs": [],
   "source": [
    "def add_post_processor_to(tokenizer: Tokenizer):\n",
    "    tokenizer.post_processor = TemplateProcessing(\n",
    "        single=f\"{SOS_TOKEN} $0 {EOS_TOKEN}\",\n",
    "        special_tokens=[\n",
    "            (X, tokenizer.token_to_id(X)) for X in [SOS_TOKEN, EOS_TOKEN]\n",
    "        ]\n",
    "    )\n",
    "add_post_processor_to(word_tokenizer)\n",
    "add_post_processor_to(bpe_tokenizer)"
   ]
  },
  {
   "cell_type": "markdown",
   "id": "f0daaf47-bb95-412e-8501-dc36f3b417fa",
   "metadata": {},
   "source": [
    "## <div class=\"blue right farsi\">تست عملکرد توکنایزیشن</div>"
   ]
  },
  {
   "cell_type": "code",
   "execution_count": 10,
   "id": "20774489-e00a-42be-8178-3b515f954da8",
   "metadata": {},
   "outputs": [
    {
     "name": "stdout",
     "output_type": "stream",
     "text": [
      "Word Tokenizer: ['[SOS]', 'سلاااااام', 'حالت', 'خوب', 'است', '؟', '[EOS]']\n",
      "BPE Tokenizer: ['[SOS]', 'س', 'لا', 'ا', 'ا', 'ا', 'ا', 'ام', 'حالت', 'خوب', 'است', '؟', '[EOS]']\n"
     ]
    }
   ],
   "source": [
    "sample = 'سلاااااام حالت خوب است؟'\n",
    "print(f'Word Tokenizer: {word_tokenizer.encode(sample).tokens}')\n",
    "print(f'BPE Tokenizer: {bpe_tokenizer.encode(sample).tokens}')"
   ]
  },
  {
   "cell_type": "markdown",
   "id": "a315aa86-b26b-4b0e-bd06-1068251623e2",
   "metadata": {},
   "source": [
    "# <div class=\"green\">Preparing Data For LM</div>"
   ]
  },
  {
   "cell_type": "code",
   "execution_count": 11,
   "id": "00aff8b7-cfa0-49c6-9976-7eac29c311a4",
   "metadata": {},
   "outputs": [],
   "source": [
    "from torch.utils.data import Dataset\n",
    "\n",
    "class TokenizedTextDataset(Dataset):\n",
    "    def __init__(self, lines, tokenizer, tokenizer_args):                \n",
    "        self.__lines = [tokenizer(line, **tokenizer_args) for line in lines]\n",
    "        \n",
    "    def __len__(self):\n",
    "        return len(self.__lines)\n",
    "    \n",
    "    def __getitem__(self, idx):\n",
    "        return self.__lines[idx]\n",
    "\n",
    "class TextDataset(Dataset):\n",
    "    def __init__(self, corpus_files):\n",
    "        dataset_lines = []\n",
    "\n",
    "        for file_name in corpus_files:\n",
    "            with open(file_name, 'r') as f:\n",
    "                dataset_lines += f.readlines()\n",
    "        dataset_lines = [line.strip() for line in dataset_lines]\n",
    "                \n",
    "        self.__lines = dataset_lines\n",
    "        \n",
    "    def __len__(self):\n",
    "        return len(self.__lines)\n",
    "    \n",
    "    def __getitem__(self, idx):\n",
    "        return self.__lines[idx]\n",
    "    \n",
    "    def get_tokenized(self, tokenizer, **tokenizer_args):\n",
    "        return TokenizedTextDataset(self.__lines, tokenizer, tokenizer_args)\n"
   ]
  },
  {
   "cell_type": "code",
   "execution_count": 12,
   "id": "560bef30-2bce-48d3-af06-640e7ab484e0",
   "metadata": {},
   "outputs": [
    {
     "data": {
      "text/plain": [
       "'به صنوف سینمایی سر بزنید!'"
      ]
     },
     "execution_count": 12,
     "metadata": {},
     "output_type": "execute_result"
    }
   ],
   "source": [
    "dataset = TextDataset(LM_TRAINING_DATA)\n",
    "dataset[1]"
   ]
  },
  {
   "cell_type": "markdown",
   "id": "35184766-65c9-46e5-88db-8d4f77e06da2",
   "metadata": {},
   "source": [
    "# <div class=\"green\">Transformer LM</div>"
   ]
  },
  {
   "cell_type": "code",
   "execution_count": 13,
   "id": "cb883b92-afb8-4066-bc44-2673d53598ab",
   "metadata": {},
   "outputs": [],
   "source": [
    "TRANSFORMER_EPOCHS = 3#00\n",
    "MAX_LENGTH = 128\n",
    "LENGTH_OF_EMBEDINGS = 120\n",
    "NUMBER_OF_LAYERS = 3"
   ]
  },
  {
   "cell_type": "code",
   "execution_count": 14,
   "id": "07e6cfd3-4237-4cc9-8ea4-5a8e1314c88a",
   "metadata": {},
   "outputs": [],
   "source": [
    "from transformers import (\n",
    "    AutoModel,\n",
    "    PreTrainedModel,\n",
    "    GPT2Config,\n",
    "    GPT2LMHeadModel,\n",
    "    Trainer,\n",
    "    TrainingArguments,\n",
    "    DataCollatorForLanguageModeling,\n",
    "    PreTrainedTokenizerFast,\n",
    "#     LineByLineTextDataset, #REMOVE THIS\n",
    ")"
   ]
  },
  {
   "cell_type": "code",
   "execution_count": 15,
   "id": "9ab90984-8380-42f0-adfd-babc7b2306df",
   "metadata": {},
   "outputs": [],
   "source": [
    "def create_gpt_model(dataset: Dataset, tokenizer: Tokenizer) -> typing.Tuple[PreTrainedModel, Trainer]:\n",
    "    fast_tokenizer = PreTrainedTokenizerFast(tokenizer_object=copy.deepcopy(tokenizer))\n",
    "    fast_tokenizer.add_special_tokens({'pad_token': PAD_TOKEN})\n",
    "    \n",
    "    prepared_dataset = dataset.get_tokenized(fast_tokenizer, \n",
    "                padding='max_length', truncation='longest_first', return_tensors=\"pt\", max_length=MAX_LENGTH)\n",
    "        \n",
    "    config = GPT2Config(vocab_size=tokenizer.get_vocab_size(), n_layer=NUMBER_OF_LAYERS, n_embd=LENGTH_OF_EMBEDINGS, n_positions=MAX_LENGTH)\n",
    "    model = GPT2LMHeadModel(config)\n",
    "    \n",
    "    \n",
    "    data_collator = DataCollatorForLanguageModeling(\n",
    "        tokenizer=fast_tokenizer, mlm=False\n",
    "    )\n",
    "    training_args = TrainingArguments(\n",
    "        output_dir=\"./GPT2\",\n",
    "#         save_strategy='no',\n",
    "        overwrite_output_dir=True,\n",
    "        num_train_epochs=TRANSFORMER_EPOCHS,\n",
    "        save_steps=10_000,\n",
    "        save_total_limit=2,\n",
    "        logging_steps=1_0000,\n",
    "        prediction_loss_only=True,\n",
    "    )\n",
    "\n",
    "    trainer = Trainer(\n",
    "        model=model,\n",
    "        args=training_args,\n",
    "        data_collator=data_collator,\n",
    "        train_dataset=prepared_dataset\n",
    "    )\n",
    "    return model, trainer\n",
    "\n",
    "def calc_ppl(dataset, model, tokenizer):\n",
    "    nlls = []\n",
    "    \n",
    "    tokenizer = copy.deepcopy(tokenizer)\n",
    "    tokenizer.enable_truncation(128)\n",
    "\n",
    "    sum_len = 0\n",
    "\n",
    "    for line in tqdm.tqdm(dataset):\n",
    "        ids = tokenizer.encode(line).ids\n",
    "        input_ids = torch.tensor(ids).to('cuda')\n",
    "        target_ids = input_ids.clone()\n",
    "        trg_len = len(ids)\n",
    "        sum_len += trg_len\n",
    "        with torch.no_grad():\n",
    "            outputs = model(input_ids, labels=target_ids)\n",
    "            neg_log_likelihood = outputs.loss * trg_len\n",
    "\n",
    "        nlls.append(neg_log_likelihood)\n",
    "\n",
    "    return torch.exp(torch.stack(nlls).sum() / sum_len)"
   ]
  },
  {
   "cell_type": "markdown",
   "id": "7d2d047f-dd9c-49ac-a0a7-22ee7b89a3af",
   "metadata": {},
   "source": [
    "## <span class=\"blue\">Word Level</span>"
   ]
  },
  {
   "cell_type": "code",
   "execution_count": 15,
   "id": "57ddd7ce-d404-45fa-97cd-a2671123b685",
   "metadata": {},
   "outputs": [
    {
     "name": "stdout",
     "output_type": "stream",
     "text": [
      "1138680\n"
     ]
    }
   ],
   "source": [
    "word_model, trainer = create_gpt_model(dataset, word_tokenizer)\n",
    "print(word_model.num_parameters())"
   ]
  },
  {
   "cell_type": "code",
   "execution_count": 16,
   "id": "995372a4-0c65-497e-ae4a-65f1a5c7c545",
   "metadata": {},
   "outputs": [
    {
     "name": "stderr",
     "output_type": "stream",
     "text": [
      "***** Running training *****\n",
      "  Num examples = 40000\n",
      "  Num Epochs = 3\n",
      "  Instantaneous batch size per device = 8\n",
      "  Total train batch size (w. parallel, distributed & accumulation) = 8\n",
      "  Gradient Accumulation steps = 1\n",
      "  Total optimization steps = 15000\n"
     ]
    },
    {
     "data": {
      "text/html": [
       "\n",
       "    <div>\n",
       "      \n",
       "      <progress value='15000' max='15000' style='width:300px; height:20px; vertical-align: middle;'></progress>\n",
       "      [15000/15000 03:40, Epoch 3/3]\n",
       "    </div>\n",
       "    <table border=\"1\" class=\"dataframe\">\n",
       "  <thead>\n",
       "    <tr style=\"text-align: left;\">\n",
       "      <th>Step</th>\n",
       "      <th>Training Loss</th>\n",
       "    </tr>\n",
       "  </thead>\n",
       "  <tbody>\n",
       "    <tr>\n",
       "      <td>10000</td>\n",
       "      <td>5.611700</td>\n",
       "    </tr>\n",
       "  </tbody>\n",
       "</table><p>"
      ],
      "text/plain": [
       "<IPython.core.display.HTML object>"
      ]
     },
     "metadata": {},
     "output_type": "display_data"
    },
    {
     "name": "stderr",
     "output_type": "stream",
     "text": [
      "Saving model checkpoint to ./GPT2/checkpoint-10000\n",
      "Configuration saved in ./GPT2/checkpoint-10000/config.json\n",
      "Model weights saved in ./GPT2/checkpoint-10000/pytorch_model.bin\n",
      "\n",
      "\n",
      "Training completed. Do not forget to share your model on huggingface.co/models =)\n",
      "\n",
      "\n",
      "Configuration saved in gpt2_word/config.json\n",
      "Model weights saved in gpt2_word/pytorch_model.bin\n"
     ]
    }
   ],
   "source": [
    "trainer.train()\n",
    "word_model.save_pretrained('gpt2_word')"
   ]
  },
  {
   "cell_type": "code",
   "execution_count": 7,
   "id": "d1a1416d-31c2-4334-aaea-c86ae56f43f5",
   "metadata": {},
   "outputs": [
    {
     "ename": "NameError",
     "evalue": "name 'calc_ppl' is not defined",
     "output_type": "error",
     "traceback": [
      "\u001b[0;31m---------------------------------------------------------------------------\u001b[0m",
      "\u001b[0;31mNameError\u001b[0m                                 Traceback (most recent call last)",
      "\u001b[0;32m<ipython-input-7-0b47892783f0>\u001b[0m in \u001b[0;36m<module>\u001b[0;34m\u001b[0m\n\u001b[0;32m----> 1\u001b[0;31m \u001b[0mprint\u001b[0m\u001b[0;34m(\u001b[0m\u001b[0;34mf\"PPL IS: {calc_ppl(dataset, word_model, word_tokenizer)}\"\u001b[0m\u001b[0;34m)\u001b[0m\u001b[0;34m\u001b[0m\u001b[0;34m\u001b[0m\u001b[0m\n\u001b[0m",
      "\u001b[0;31mNameError\u001b[0m: name 'calc_ppl' is not defined"
     ]
    }
   ],
   "source": [
    "# print(f\"PPL IS: {calc_ppl(dataset, word_model, word_tokenizer)}\")"
   ]
  },
  {
   "cell_type": "markdown",
   "id": "4b858a5f-cf41-4313-9753-30b78a0b3e6a",
   "metadata": {},
   "source": [
    "## <span class=\"blue\">BPE Level</span>"
   ]
  },
  {
   "cell_type": "code",
   "execution_count": 18,
   "id": "26c37666-4577-4501-89b1-682b060a9753",
   "metadata": {},
   "outputs": [
    {
     "name": "stderr",
     "output_type": "stream",
     "text": [
      "Assigning [PAD] to the pad_token key of the tokenizer\n",
      "PyTorch: setting up devices\n",
      "The default value for the training argument `--report_to` will change in v5 (from all installed integrations to none). In v5, you will need to use `--report_to all` to get the same behavior as now. You should start updating your code and make this info disappear :-).\n"
     ]
    },
    {
     "name": "stdout",
     "output_type": "stream",
     "text": [
      "1738680\n"
     ]
    }
   ],
   "source": [
    "bpe_model, trainer = create_gpt_model(dataset, bpe_tokenizer)\n",
    "print(bpe_model.num_parameters())"
   ]
  },
  {
   "cell_type": "code",
   "execution_count": 19,
   "id": "c08b3e51-8e1b-48f7-99f7-5c123b9aeca4",
   "metadata": {},
   "outputs": [
    {
     "name": "stderr",
     "output_type": "stream",
     "text": [
      "***** Running training *****\n",
      "  Num examples = 40000\n",
      "  Num Epochs = 3\n",
      "  Instantaneous batch size per device = 8\n",
      "  Total train batch size (w. parallel, distributed & accumulation) = 8\n",
      "  Gradient Accumulation steps = 1\n",
      "  Total optimization steps = 15000\n"
     ]
    },
    {
     "data": {
      "text/html": [
       "\n",
       "    <div>\n",
       "      \n",
       "      <progress value='15000' max='15000' style='width:300px; height:20px; vertical-align: middle;'></progress>\n",
       "      [15000/15000 04:22, Epoch 3/3]\n",
       "    </div>\n",
       "    <table border=\"1\" class=\"dataframe\">\n",
       "  <thead>\n",
       "    <tr style=\"text-align: left;\">\n",
       "      <th>Step</th>\n",
       "      <th>Training Loss</th>\n",
       "    </tr>\n",
       "  </thead>\n",
       "  <tbody>\n",
       "    <tr>\n",
       "      <td>10000</td>\n",
       "      <td>6.762400</td>\n",
       "    </tr>\n",
       "  </tbody>\n",
       "</table><p>"
      ],
      "text/plain": [
       "<IPython.core.display.HTML object>"
      ]
     },
     "metadata": {},
     "output_type": "display_data"
    },
    {
     "name": "stderr",
     "output_type": "stream",
     "text": [
      "Saving model checkpoint to ./GPT2/checkpoint-10000\n",
      "Configuration saved in ./GPT2/checkpoint-10000/config.json\n",
      "Model weights saved in ./GPT2/checkpoint-10000/pytorch_model.bin\n",
      "\n",
      "\n",
      "Training completed. Do not forget to share your model on huggingface.co/models =)\n",
      "\n",
      "\n",
      "Configuration saved in gpt2_bpe/config.json\n",
      "Model weights saved in gpt2_bpe/pytorch_model.bin\n"
     ]
    }
   ],
   "source": [
    "trainer.train()\n",
    "bpe_model.save_pretrained('gpt2_bpe')"
   ]
  },
  {
   "cell_type": "code",
   "execution_count": 20,
   "id": "6c3260e3-ee45-42a4-96f5-994a0de40997",
   "metadata": {},
   "outputs": [
    {
     "name": "stderr",
     "output_type": "stream",
     "text": [
      "  0%|          | 1/40000 [00:00<07:25, 89.69it/s]\n"
     ]
    },
    {
     "ename": "RuntimeError",
     "evalue": "CUDA error: device-side assert triggered\nCUDA kernel errors might be asynchronously reported at some other API call,so the stacktrace below might be incorrect.\nFor debugging consider passing CUDA_LAUNCH_BLOCKING=1.",
     "output_type": "error",
     "traceback": [
      "\u001b[0;31m---------------------------------------------------------------------------\u001b[0m",
      "\u001b[0;31mRuntimeError\u001b[0m                              Traceback (most recent call last)",
      "\u001b[0;32m<ipython-input-20-6beb83b64006>\u001b[0m in \u001b[0;36m<module>\u001b[0;34m\u001b[0m\n\u001b[0;32m----> 1\u001b[0;31m \u001b[0mprint\u001b[0m\u001b[0;34m(\u001b[0m\u001b[0;34mf\"PPL IS: {calc_ppl(dataset, bpe_model, bpe_tokenizer)}\"\u001b[0m\u001b[0;34m)\u001b[0m\u001b[0;34m\u001b[0m\u001b[0;34m\u001b[0m\u001b[0m\n\u001b[0m",
      "\u001b[0;32m<ipython-input-14-42abf011b7d9>\u001b[0m in \u001b[0;36mcalc_ppl\u001b[0;34m(dataset, model, tokenizer)\u001b[0m\n\u001b[1;32m     42\u001b[0m     \u001b[0;32mfor\u001b[0m \u001b[0mline\u001b[0m \u001b[0;32min\u001b[0m \u001b[0mtqdm\u001b[0m\u001b[0;34m.\u001b[0m\u001b[0mtqdm\u001b[0m\u001b[0;34m(\u001b[0m\u001b[0mdataset\u001b[0m\u001b[0;34m)\u001b[0m\u001b[0;34m:\u001b[0m\u001b[0;34m\u001b[0m\u001b[0;34m\u001b[0m\u001b[0m\n\u001b[1;32m     43\u001b[0m         \u001b[0mids\u001b[0m \u001b[0;34m=\u001b[0m \u001b[0mtokenizer\u001b[0m\u001b[0;34m.\u001b[0m\u001b[0mencode\u001b[0m\u001b[0;34m(\u001b[0m\u001b[0mline\u001b[0m\u001b[0;34m)\u001b[0m\u001b[0;34m.\u001b[0m\u001b[0mids\u001b[0m\u001b[0;34m\u001b[0m\u001b[0;34m\u001b[0m\u001b[0m\n\u001b[0;32m---> 44\u001b[0;31m         \u001b[0minput_ids\u001b[0m \u001b[0;34m=\u001b[0m \u001b[0mtorch\u001b[0m\u001b[0;34m.\u001b[0m\u001b[0mtensor\u001b[0m\u001b[0;34m(\u001b[0m\u001b[0mids\u001b[0m\u001b[0;34m)\u001b[0m\u001b[0;34m.\u001b[0m\u001b[0mto\u001b[0m\u001b[0;34m(\u001b[0m\u001b[0;34m'cuda'\u001b[0m\u001b[0;34m)\u001b[0m\u001b[0;34m\u001b[0m\u001b[0;34m\u001b[0m\u001b[0m\n\u001b[0m\u001b[1;32m     45\u001b[0m         \u001b[0mtarget_ids\u001b[0m \u001b[0;34m=\u001b[0m \u001b[0minput_ids\u001b[0m\u001b[0;34m.\u001b[0m\u001b[0mclone\u001b[0m\u001b[0;34m(\u001b[0m\u001b[0;34m)\u001b[0m\u001b[0;34m\u001b[0m\u001b[0;34m\u001b[0m\u001b[0m\n\u001b[1;32m     46\u001b[0m         \u001b[0mtrg_len\u001b[0m \u001b[0;34m=\u001b[0m \u001b[0mlen\u001b[0m\u001b[0;34m(\u001b[0m\u001b[0mids\u001b[0m\u001b[0;34m)\u001b[0m\u001b[0;34m\u001b[0m\u001b[0;34m\u001b[0m\u001b[0m\n",
      "\u001b[0;31mRuntimeError\u001b[0m: CUDA error: device-side assert triggered\nCUDA kernel errors might be asynchronously reported at some other API call,so the stacktrace below might be incorrect.\nFor debugging consider passing CUDA_LAUNCH_BLOCKING=1."
     ]
    }
   ],
   "source": [
    "# print(f\"PPL IS: {calc_ppl(dataset, bpe_model, bpe_tokenizer)}\")"
   ]
  }
 ],
 "metadata": {
  "kernelspec": {
   "display_name": "Python 3",
   "language": "python",
   "name": "python3"
  },
  "language_info": {
   "codemirror_mode": {
    "name": "ipython",
    "version": 3
   },
   "file_extension": ".py",
   "mimetype": "text/x-python",
   "name": "python",
   "nbconvert_exporter": "python",
   "pygments_lexer": "ipython3",
   "version": "3.8.8"
  }
 },
 "nbformat": 4,
 "nbformat_minor": 5
}
